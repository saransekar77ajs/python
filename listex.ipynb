{
 "cells": [
  {
   "cell_type": "code",
   "execution_count": 3,
   "id": "82bb184a",
   "metadata": {},
   "outputs": [
    {
     "name": "stdout",
     "output_type": "stream",
     "text": [
      "The biggest number in the list [29, 12, 44, 17, 55, 13, 19] is 55.\n",
      "The largest character in the list ['A', 'D', 'w', 'a', 'L', 'm'] is w.\n"
     ]
    }
   ],
   "source": [
    "# write a program to find max/biggest element without using max() function\n",
    "\n",
    "numbers = [29,12,44,17,55,13,19]\n",
    "alphabets = ['A','D','w','a','L','m']\n",
    "biggest = 0\n",
    "largest =''\n",
    "for num in numbers:\n",
    "  if num > biggest:\n",
    "    biggest = num\n",
    "  else:\n",
    "    continue\n",
    "  \n",
    "for char in alphabets:\n",
    "  if char > largest:\n",
    "    largest = char\n",
    "  else:\n",
    "    continue  \n",
    "\n",
    "print(f\"The biggest number in the list {numbers} is {biggest}.\")    \n",
    "print(f\"The largest character in the list {alphabets} is {largest}.\")    \n",
    "  "
   ]
  },
  {
   "cell_type": "code",
   "execution_count": 3,
   "id": "979de291",
   "metadata": {},
   "outputs": [
    {
     "name": "stdout",
     "output_type": "stream",
     "text": [
      "The non-duplicates from the list [29, 12, 44, 17, 55, 13, 19, 12, 29, 13] are {12, 44, 13, 17, 19, 55, 29} \n",
      "The non-duplicates from the list [29, 12, 44, 17, 55, 13, 19, 12, 29, 13] are [29, 12, 44, 17, 55, 13, 19] \n"
     ]
    }
   ],
   "source": [
    "# write a program to display only non-duplicates elements from the list\n",
    "numbers = [29,12,44,17,55,13,19,12,29,13]\n",
    "unique_numbers = set(numbers)\n",
    "new_numbers = []\n",
    "\n",
    "for num in numbers:\n",
    "  if num not in new_numbers:\n",
    "    new_numbers.append(num)\n",
    "  else:\n",
    "    continue  \n",
    "  \n",
    "\n",
    "print(f\"The non-duplicates from the list {numbers} are {unique_numbers} \")\n",
    "print(f\"The non-duplicates from the list {numbers} are {new_numbers} \")"
   ]
  },
  {
   "cell_type": "code",
   "execution_count": null,
   "id": "4a470601",
   "metadata": {},
   "outputs": [
    {
     "name": "stdout",
     "output_type": "stream",
     "text": [
      "Players who play both Cricket and Soccer: ['Dhoni', 'Virat', 'Jadeja']\n"
     ]
    }
   ],
   "source": [
    "# write a program to take two lists and create a new list with elements common in both\n",
    "\n",
    "cric_players = ['Dhoni','Virat','Rohit','Jadeja','KL Rahul','Hardik']\n",
    "soc_players = ['Messi','Dhoni','Virat','Jadeja','Ronaldo']\n",
    "\n",
    "plays_both = []\n",
    "\n",
    "for player in cric_players:\n",
    "  if player in soc_players and player not in plays_both:\n",
    "    plays_both.append(player)\n",
    "\n",
    "print(f\"Players who play both Cricket and Soccer: {plays_both}\")    "
   ]
  },
  {
   "cell_type": "code",
   "execution_count": 22,
   "id": "d11d44ef",
   "metadata": {},
   "outputs": [
    {
     "name": "stdout",
     "output_type": "stream",
     "text": [
      "Rohit found at index [2].\n"
     ]
    }
   ],
   "source": [
    "# write a program to accept an element and find its index in the list without using index() method.\n",
    "\n",
    "player_name = input(\"Enter player name:\\n\")\n",
    "\n",
    "players = ['Dhoni','Virat','Rohit','Jadeja','KL Rahul','Hardik','Shreyas']\n",
    "\n",
    "index = [idx for idx,player in enumerate(players) if player == player_name]\n",
    "\n",
    "if index:\n",
    "  print(f\"{player_name} found at index {index}.\")\n",
    "else:\n",
    "  print(f\"{player_name} NOT found.\")"
   ]
  },
  {
   "cell_type": "code",
   "execution_count": 21,
   "id": "3ec03207",
   "metadata": {},
   "outputs": [
    {
     "name": "stdout",
     "output_type": "stream",
     "text": [
      "The length of the given list is 7\n"
     ]
    }
   ],
   "source": [
    "# write a program to find the length of given list without using len() function\n",
    "\n",
    "players = ['Dhoni','Virat','Rohit','Jadeja','KL Rahul','Hardik','Shreyas']\n",
    "length = 0\n",
    "\n",
    "for palyer in players:\n",
    "  length+=1\n",
    "  \n",
    "print(f\"The length of the given list is {length}\")  "
   ]
  }
 ],
 "metadata": {
  "kernelspec": {
   "display_name": "Python 3",
   "language": "python",
   "name": "python3"
  },
  "language_info": {
   "codemirror_mode": {
    "name": "ipython",
    "version": 3
   },
   "file_extension": ".py",
   "mimetype": "text/x-python",
   "name": "python",
   "nbconvert_exporter": "python",
   "pygments_lexer": "ipython3",
   "version": "3.12.3"
  }
 },
 "nbformat": 4,
 "nbformat_minor": 5
}
