{
 "cells": [
  {
   "cell_type": "markdown",
   "metadata": {},
   "source": [
    "- 1) WAP to read student id, name, 5 subjects marks , calculate total and percentage.\n",
    "- 2) WAP to calculate area of the square. \n",
    "   Formula: area=side*side\n",
    "- 3) WAP to calculate area of the triangle. \n",
    "   Formula: area=1/2*breadth*height\n",
    "- 4) WAP to calculate area of the rectangle Note: Take all variables as float type. \n",
    "  Formula: area=length*breadth\n",
    "- 5) WAP to calculate area of the circle. \n",
    "   Formula: area=PI*r*r  , here PI =3.14\n",
    "- 6) WAP to calculate volume of the cube. Formula:a*a*a\n",
    "- 7) WAP to calculate volume of the cuboid. Formula:l*b*h\n",
    "- 8) WAP to calculate volume of the cylinder.Formula:Pi*r*r*h\n",
    "- 9) WAP to calculate circumference of circle.Formula: 2*pi*r\n",
    "- 10) WAP to calculate sum of the first n natural numbers. Formula: n*(n+1)/2\n",
    "- 11) Biggest of 2 numbers\n",
    "- 12) check given value is available in the list\n",
    "- 13) read 2 values from keyboard and check whether they are pointing same memory location or not"
   ]
  },
  {
   "cell_type": "code",
   "execution_count": null,
   "metadata": {},
   "outputs": [],
   "source": [
    "# write a program to check if given sub-string is available in the string\n",
    "content = \"Python is easy\"\n",
    "\n",
    "word = input(\"Enter the string you want to check \\n\")\n",
    "\n",
    "if word in content:\n",
    "  print(f\"{word} is present  in the string \\\"{content}\\\".\")\n",
    "else:\n",
    "  print(f\"{word} is not present in the string \\\"{content}\\\".\")  "
   ]
  },
  {
   "cell_type": "code",
   "execution_count": null,
   "metadata": {},
   "outputs": [],
   "source": [
    "# write a program to check username and password and greet with Welcome message to the username\n",
    "username = 'Jack Sparrow'\n",
    "password = \"Pirate$007\"\n",
    "\n",
    "user = input(\"Enter your username!\\n\")\n",
    "pwd = input(\"Enter your password!\\n\")\n",
    "\n",
    "if user == username:\n",
    "  if pwd == password:\n",
    "    print(f\"Welcome {user}!.\")\n",
    "  else:\n",
    "    print(f\"Invalid password please try again!\")\n",
    "else:\n",
    "  print(\"Invalid username please try again!\") "
   ]
  },
  {
   "cell_type": "code",
   "execution_count": 12,
   "metadata": {},
   "outputs": [
    {
     "name": "stdout",
     "output_type": "stream",
     "text": [
      "Welcome to the Student portal!\n",
      "['85', '98', '56', '78', '84']\n",
      "Welcome Roshan!\n",
      "Roshan's total marks =  401\n",
      "Roshan's percentage = 80.2\n"
     ]
    }
   ],
   "source": [
    "# write a program read student id, name, 5 subjects marks , calculate total and percentage.\n",
    "\n",
    "print(\"Welcome to the Student portal!\")\n",
    "\n",
    "sid = input(\"Enter your student Id.\\n\")\n",
    "sname = input(\"Enter student full name.\\n\")\n",
    "marks = input(\"Enter all your 5 subject marks separated by comma\\n\").split(',')\n",
    "\n",
    "total_marks = 500\n",
    "student_total = 0\n",
    "\n",
    "print(marks)\n",
    "\n",
    "for mark in marks:\n",
    "  if int(mark) > 100 or int(mark) < 0:\n",
    "    print(f\"Entered {mark} is invalid, mark should be in the range of 0 to 100 only!\")\n",
    "  else:    \n",
    "    student_total += int(mark)\n",
    "print(f\"Welcome {sname}!\")    \n",
    "print(f\"{sname}'s total marks = \",student_total)\n",
    "print(f\"{sname}'s percentage =\", student_total/total_marks * 100)  "
   ]
  },
  {
   "cell_type": "code",
   "execution_count": null,
   "metadata": {},
   "outputs": [
    {
     "name": "stdout",
     "output_type": "stream",
     "text": [
      "The area of the square for the side5.0=  25.0\n"
     ]
    }
   ],
   "source": [
    "# WAP to calculate area of the square. Formula: area=side*side\n",
    "side = float(input(\"Enter the side of the Square!\\n\"))\n",
    "print(f\"The area of the Square for the given side{side} = \", side * side)"
   ]
  },
  {
   "cell_type": "code",
   "execution_count": 15,
   "metadata": {},
   "outputs": [
    {
     "name": "stdout",
     "output_type": "stream",
     "text": [
      "The area of the Trianlge for the given breadth 5.0 and height 7.0 =  17.5\n"
     ]
    }
   ],
   "source": [
    "# WAP to calculate area of the triangle. Formula: area=1/2*breadth*height\n",
    "breadth = float(input(\"Enter the breadth of the Triangle!\\n\"))\n",
    "height = float(input(\"Enter the height of the Triangle!\\n\"))\n",
    "print(f\"The area of the Trianlge for the given breadth {breadth} and height {height} = \", 1/2 * breadth * height)"
   ]
  },
  {
   "cell_type": "code",
   "execution_count": 17,
   "metadata": {},
   "outputs": [
    {
     "name": "stdout",
     "output_type": "stream",
     "text": [
      "The area of the Rectanlge for the given breadth 5.0 and height 5.0 =  25.0\n"
     ]
    }
   ],
   "source": [
    "# WAP to calculate area of the rectangle. Formula: area=breadth*height\n",
    "breadth = float(input(\"Enter the breadth of the Rectangle!\\n\"))\n",
    "height = float(input(\"Enter the height of the Rectangle!\\n\"))\n",
    "print(f\"The area of the Rectanlge for the given breadth {breadth} and height {height} = \", breadth * height)"
   ]
  },
  {
   "cell_type": "code",
   "execution_count": 18,
   "metadata": {},
   "outputs": [
    {
     "name": "stdout",
     "output_type": "stream",
     "text": [
      "The area of the Circle for the given radius 5.0 =  78.5\n"
     ]
    }
   ],
   "source": [
    "# WAP to calculate area of the circle. Formula: area=PI*r*r  , here PI =3.14\n",
    "radius = float(input(\"Enter the radius of the Circle!\\n\"))\n",
    "PI = 3.14\n",
    "print(f\"The area of the Circle for the given radius {radius} = \", PI * radius * radius)\n"
   ]
  },
  {
   "cell_type": "code",
   "execution_count": null,
   "metadata": {},
   "outputs": [
    {
     "name": "stdout",
     "output_type": "stream",
     "text": [
      "The sum of natural number {num} is  15.0\n"
     ]
    }
   ],
   "source": [
    "# WAP to calculate sum of the first n natural numbers. Formula: n*(n+1)/2\n",
    "num = int(input(\"Enter the natural number you want to calculate the sum.\\n\"))\n",
    "if num < 0:\n",
    "  print(\"Please enter valid natural number greater than 0\")\n",
    "else:    \n",
    "  print(\"The sum of natural number {num} is \",num * (num + 1) / 2)      "
   ]
  },
  {
   "cell_type": "code",
   "execution_count": 23,
   "metadata": {},
   "outputs": [
    {
     "name": "stdout",
     "output_type": "stream",
     "text": [
      "15 is greater than 10.\n"
     ]
    }
   ],
   "source": [
    "# Biggest of 2 numbers\n",
    "num1 = int(input(\"Enter value 1\\n\"))\n",
    "num2 = int(input(\"Enter value 2\\n\"))\n",
    "\n",
    "if num1 > num2:\n",
    "  print(f\"{num1} is greater than {num2}.\")\n",
    "else:\n",
    "  print(f\"{num2} is greater than {num1}.\") \n",
    "\n"
   ]
  },
  {
   "cell_type": "code",
   "execution_count": 25,
   "metadata": {},
   "outputs": [
    {
     "name": "stdout",
     "output_type": "stream",
     "text": [
      "Entered value 99 is not in the list [10, 20, 3, 9, 30, 18, 22].\n"
     ]
    }
   ],
   "source": [
    "# check given value is available in the list\n",
    "numbers = [10,20,3,9,30,18,22]\n",
    "val = int(input(\"Enter the integer value to check it in the list\\n\"))\n",
    "\n",
    "if val not in numbers:\n",
    "  print(f\"Entered value {val} is not in the list {numbers}.\")\n",
    "else:\n",
    "  print(f\"Entered value {val} is in the list {numbers}.\")  \n"
   ]
  },
  {
   "cell_type": "code",
   "execution_count": 38,
   "metadata": {},
   "outputs": [
    {
     "name": "stdout",
     "output_type": "stream",
     "text": [
      "python <class 'str'> 2296293698336\n",
      "python <class 'str'> 2296293700448\n",
      "python and python are in different memory location.\n"
     ]
    }
   ],
   "source": [
    "# read 2 values from keyboard and check whether they are pointing same memory location\n",
    "val1 = input(\"Enter the first value to check the memory location\")\n",
    "val2 = input(\"Enter the second value to check the memory location\")\n",
    "\n",
    "print(val1, type(val1), id(val1))\n",
    "print(val2, type(val2), id(val2))\n",
    "\n",
    "if val1 is val2:\n",
    "  print(f\"Both {val1} and {val2} in the same memory location.\")\n",
    "else:\n",
    "  print(f\"{val1} and {val2} are in different memory location.\")\n",
    "    \n",
    "  "
   ]
  },
  {
   "cell_type": "code",
   "execution_count": null,
   "metadata": {},
   "outputs": [],
   "source": [
    "# write a program to check whether the given number is  +ve or -ve or zero"
   ]
  },
  {
   "cell_type": "code",
   "execution_count": null,
   "metadata": {},
   "outputs": [],
   "source": []
  }
 ],
 "metadata": {
  "kernelspec": {
   "display_name": "Python 3",
   "language": "python",
   "name": "python3"
  },
  "language_info": {
   "codemirror_mode": {
    "name": "ipython",
    "version": 3
   },
   "file_extension": ".py",
   "mimetype": "text/x-python",
   "name": "python",
   "nbconvert_exporter": "python",
   "pygments_lexer": "ipython3",
   "version": "3.12.3"
  }
 },
 "nbformat": 4,
 "nbformat_minor": 2
}
