{
 "cells": [
  {
   "cell_type": "code",
   "execution_count": 6,
   "id": "1c153bdb",
   "metadata": {},
   "outputs": [
    {
     "name": "stdout",
     "output_type": "stream",
     "text": [
      "String is empty, please enter a valid string\n"
     ]
    }
   ],
   "source": [
    "# write a program to remove to remove/igoner the nth index character of given non-empty string\n",
    "string = input(\"Enter a string\\n\")\n",
    "\n",
    "if string ==\"\":\n",
    "  print(\"String is empty, please enter a valid string\")\n",
    "else:\n",
    "  index = int(input(\"Enter the index of the character to remove:\\n\"))\n",
    "  \n",
    "  if 0 < index >= len(string):\n",
    "    print(\"Entered index is out of range.\")\n",
    "  else:      \n",
    "    new_string = string[:index] + string [index+1:]\n",
    "  \n",
    "    print(f\"Entered string {string} has been replaced with {new_string}.\") "
   ]
  },
  {
   "cell_type": "code",
   "execution_count": 17,
   "id": "e5b3be7a",
   "metadata": {},
   "outputs": [
    {
     "name": "stdout",
     "output_type": "stream",
     "text": [
      "Number of words present in the entered string is 5.\n",
      "Number of characters present in the entered string is 19.\n"
     ]
    }
   ],
   "source": [
    "# write a program to find the number of words, characters present in the given string.\n",
    "\n",
    "string = input(\"Enter a string\\n\")\n",
    "\n",
    "if string ==\"\":\n",
    "  print(\"String is empty, please enter a valid string\")\n",
    "else:\n",
    "  new_string = string.split() \n",
    "  print(f\"Number of words present in the entered string is {len(new_string)}.\") \n",
    "  \n",
    "  char_count = 0\n",
    "  for letter in string:\n",
    "    if letter==\" \":\n",
    "      continue\n",
    "    else:   \n",
    "      char_count+=1\n",
    "  print(f\"Number of characters present in the entered string is {char_count}.\") "
   ]
  },
  {
   "cell_type": "code",
   "execution_count": 4,
   "id": "91346bb4",
   "metadata": {},
   "outputs": [
    {
     "name": "stdout",
     "output_type": "stream",
     "text": [
      "False\n"
     ]
    }
   ],
   "source": [
    "# write a program to check whether the given sub string is present in the specified string or not if available print True else print False.\n",
    "\n",
    "string = input(\"Enter a string\\n\")\n",
    "\n",
    "if string ==\"\":\n",
    "  print(\"String is empty, please enter a valid string\")  \n",
    "else:\n",
    "  substring = input(\"Enter the substring you want to check\\n\")\n",
    "  if substring ==\"\":\n",
    "    print(\"Sub-String is empty, please enter a valid Sub-String\")\n",
    "  else:\n",
    "    print(substring in string) "
   ]
  },
  {
   "cell_type": "code",
   "execution_count": 8,
   "id": "a239628a",
   "metadata": {},
   "outputs": [
    {
     "name": "stdout",
     "output_type": "stream",
     "text": [
      "Entered string God is NOT Palindrome.\n"
     ]
    }
   ],
   "source": [
    "# write a program to check whether the string is palindrome or not.\n",
    "string = input(\"Enter a string\\n\")\n",
    "\n",
    "if string ==\"\":\n",
    "  print(\"String is empty, please enter a valid string\")\n",
    "else:\n",
    "  reversed_string = string[::-1]\n",
    "  if reversed_string == string:\n",
    "    print(f\"Entered string {string} is Palindrome.\") \n",
    "  else:\n",
    "    print(f\"Entered string {string} is NOT Palindrome.\")\n",
    "       "
   ]
  },
  {
   "cell_type": "code",
   "execution_count": null,
   "id": "3da325db",
   "metadata": {},
   "outputs": [
    {
     "name": "stdout",
     "output_type": "stream",
     "text": [
      "Entered string is Python Is Easy To Learn\n",
      "Total number of upper case alphabets are 5.\n",
      "Total number of lower case alphabets are 14.\n"
     ]
    }
   ],
   "source": [
    "# write a program to count number of upper and lower case alphabets in the given string.\n",
    "string = input(\"Enter a string\\n\")\n",
    "upper_count = 0\n",
    "lower_count = 0\n",
    "if string ==\"\":\n",
    "  print(\"String is empty, please enter a valid string\")\n",
    "else:\n",
    "  for letter in string:\n",
    "    if letter.isupper():\n",
    "      upper_count+=1\n",
    "    elif letter.islower():\n",
    "      lower_count += 1\n",
    "    else:     \n",
    "      continue\n",
    "print(\"Entered string is\",string)     \n",
    "print(f\"Total number of upper case alphabets are {upper_count}.\")  \n",
    "print(f\"Total number of lower case alphabets are {lower_count}.\") "
   ]
  },
  {
   "cell_type": "code",
   "execution_count": 24,
   "id": "6c1c4ac0",
   "metadata": {},
   "outputs": [
    {
     "name": "stdout",
     "output_type": "stream",
     "text": [
      "Entered character ' ' is an empty space.\n"
     ]
    }
   ],
   "source": [
    "# write a program to accept a character and check whether the character is alphabet or digit or space or special character.\n",
    "\n",
    "character = input(\"Enter a character\\n\")\n",
    "\n",
    "if character ==\"\":\n",
    "  print(\"Character is empty, please enter a valid Character.\")\n",
    "elif len(character)!=1:\n",
    "  print(\"Please enter only one character.\")  \n",
    "else:\n",
    "  if character.isdigit():\n",
    "    print(f\"Entered character '{character}'is an digit.\")\n",
    "  elif character.isalpha():\n",
    "    print(f\"Entered character '{character}' is an alphabet.\") \n",
    "  elif character.isspace():\n",
    "    print(f\"Entered character '{character}' is an empty space.\") \n",
    "  else:\n",
    "    print(f\"Entered character '{character}' is a special character.\")    "
   ]
  },
  {
   "cell_type": "code",
   "execution_count": 1,
   "id": "eb9e29cd",
   "metadata": {},
   "outputs": [
    {
     "name": "stdout",
     "output_type": "stream",
     "text": [
      "140733614463704\n",
      "140733614463704\n"
     ]
    }
   ],
   "source": [
    "l1 = [10,20,30]\n",
    "l2 = [10,33,40]\n",
    "\n",
    "print(id(l1[0]))\n",
    "print(id(l2[0]))"
   ]
  },
  {
   "cell_type": "code",
   "execution_count": 7,
   "id": "df83bff2",
   "metadata": {},
   "outputs": [
    {
     "ename": "TypeError",
     "evalue": "unhashable type: 'set'",
     "output_type": "error",
     "traceback": [
      "\u001b[1;31m---------------------------------------------------------------------------\u001b[0m",
      "\u001b[1;31mTypeError\u001b[0m                                 Traceback (most recent call last)",
      "Cell \u001b[1;32mIn[7], line 1\u001b[0m\n\u001b[1;32m----> 1\u001b[0m a \u001b[38;5;241m=\u001b[39m {\u001b[38;5;124m\"\u001b[39m\u001b[38;5;124mpython\u001b[39m\u001b[38;5;124m\"\u001b[39m,\u001b[38;5;241m1\u001b[39m,\u001b[38;5;241m4.678\u001b[39m,\u001b[38;5;241m10.9\u001b[39mj,\u001b[38;5;28;01mTrue\u001b[39;00m,(\u001b[38;5;241m1\u001b[39m,\u001b[38;5;241m2\u001b[39m,\u001b[38;5;241m3\u001b[39m),{\u001b[38;5;241m10\u001b[39m,\u001b[38;5;241m20\u001b[39m,\u001b[38;5;241m30\u001b[39m}}\n\u001b[0;32m      2\u001b[0m \u001b[38;5;28mprint\u001b[39m(a, \u001b[38;5;28mtype\u001b[39m(a))\n",
      "\u001b[1;31mTypeError\u001b[0m: unhashable type: 'set'"
     ]
    }
   ],
   "source": [
    "a = {\"python\",1,4.678,10.9j,True,(1,2,3),{10,20,30}}\n",
    "print(a, type(a))"
   ]
  }
 ],
 "metadata": {
  "kernelspec": {
   "display_name": "Python 3",
   "language": "python",
   "name": "python3"
  },
  "language_info": {
   "codemirror_mode": {
    "name": "ipython",
    "version": 3
   },
   "file_extension": ".py",
   "mimetype": "text/x-python",
   "name": "python",
   "nbconvert_exporter": "python",
   "pygments_lexer": "ipython3",
   "version": "3.12.3"
  }
 },
 "nbformat": 4,
 "nbformat_minor": 5
}
