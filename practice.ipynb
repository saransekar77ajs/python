{
 "cells": [
  {
   "cell_type": "code",
   "execution_count": null,
   "id": "29812e45",
   "metadata": {},
   "outputs": [],
   "source": [
    "# write a program that converts no. of year to weeks 1year to 52 weeks\n",
    "\n",
    "year = int(input(\"Enter the year to convert to weeks\\n\"))\n",
    "\n",
    "week = 52\n",
    "\n",
    "print(\"Number of weeks = \", week*year)"
   ]
  },
  {
   "cell_type": "code",
   "execution_count": null,
   "id": "8c2a9152",
   "metadata": {},
   "outputs": [],
   "source": [
    "# write a program that converts celsius to fahrenheit\n",
    "\n",
    "cel = float(input(\"Enter the Celsius temperature to convert to Fahrenheit:\\n\"))\n",
    "\n",
    "fahrenheit = (cel * 9/5) + 32\n",
    "\n",
    "print(f\"The Fahrenheit equivalent is {round(fahrenheit, 2)}° for the entered {cel}° Celsius\")"
   ]
  },
  {
   "cell_type": "code",
   "execution_count": null,
   "id": "34d89d07",
   "metadata": {},
   "outputs": [],
   "source": [
    "# write a program if age less than 18 not eligible to vote else you are eligible to vote\n",
    "\n",
    "age = int(input(\"enter your age\\n\"))\n",
    "\n",
    "if age < 18:\n",
    "  print(f\"Not eligible to vote!.\")\n",
    "else:\n",
    "  print(f\"Eligible to vote!.\")  \n",
    "  "
   ]
  },
  {
   "cell_type": "code",
   "execution_count": null,
   "id": "d3a4998c",
   "metadata": {},
   "outputs": [],
   "source": [
    "age = int(input(\"enter your age\\n\"))\n",
    "\n",
    "if age < 18:\n",
    "  print(f\"Not eligible to vote!.\")\n",
    "else:\n",
    "  if age > 21:\n",
    "    print(\"Eligible to vote and party!\") \n",
    "  else:\n",
    "    print(f\"Eligible to vote!.\")\n",
    "      "
   ]
  },
  {
   "cell_type": "code",
   "execution_count": null,
   "id": "826b44ef",
   "metadata": {},
   "outputs": [],
   "source": [
    "# write a program to get the number between 1 and 100 and check if its divisible by 5 or not\n",
    "\n",
    "num = int(input(\"Enter a number between 1 and 100\\n\"))\n",
    "\n",
    "if num > 100 or num < 1:\n",
    "  print(\"Number is out of range. Please enter a number between 1 and 100.\")  \n",
    "else:\n",
    "  if num % 5 == 0:\n",
    "    print(f\"The entered number {num} is divisible of 5.\") \n",
    "  else:\n",
    "    print(f\"The entered number {num} is NOT divisible of 5.\") "
   ]
  },
  {
   "cell_type": "code",
   "execution_count": null,
   "id": "113bb561",
   "metadata": {},
   "outputs": [],
   "source": [
    "# write a program to calculate the bmi\n",
    "weight = float(input(\"Enter your weight\\n\"))\n",
    "\n",
    "if weight <18.5:\n",
    "  print(f\"You are under weight.\")\n",
    "elif 18.5 < weight < 25:\n",
    "  print(f\"You weight is normal.\") \n",
    "elif 25 < weight < 30:\n",
    "  print(f\"You are over weight.\") \n",
    "else:\n",
    "  print(f\"You are obese, please check with doctor!.\") "
   ]
  },
  {
   "cell_type": "code",
   "execution_count": null,
   "id": "d2066205",
   "metadata": {},
   "outputs": [],
   "source": [
    "# write a program to create a simple calculator\n",
    "num1 = input(\"Enter the first number: \")\n",
    "num2 = input(\"Enter the second number: \")\n",
    "\n",
    "if num1.isdigit() and num2.isdigit():\n",
    "  num1 = float(num1)\n",
    "  num2 = float(num2)\n",
    "  \n",
    "  print(\"Choose an operation:\\n1. Addition\\n2. Subtraction\\n3. Multiplication\\n4. Division\")  \n",
    "  operation = input(\"Choose an operation: \")\n",
    "\n",
    "  match operation:\n",
    "    case \"1\":\n",
    "      print(f\"The sum of {num1} + {num2} = {num1+num2}.\")\n",
    "    case \"2\":\n",
    "      print(f\"{num1} take away {num2} = {num1-num2}.\") \n",
    "    case \"3\":\n",
    "      print(f\"The product of {num1} * {num2} = {num1*num2}.\")\n",
    "    case \"4\":\n",
    "      if num2 == 0:\n",
    "        print(\"You cannot divide by 0, please enter a valid number.\")\n",
    "      else:\n",
    "        print(f\"{num1} divided by {num2} = {num1/num2}.\")\n",
    "    case _:\n",
    "      print(f\"Invalid operation, please choose valid operation.\")\n",
    "    \n",
    "else:\n",
    "  print(\"Please enter valid numbers.\")  \n",
    "  "
   ]
  },
  {
   "cell_type": "code",
   "execution_count": null,
   "id": "0cd3de11",
   "metadata": {},
   "outputs": [],
   "source": [
    "# write a program using function to create a simple calculator\n",
    "class Calculator(): \n",
    "  def __init__(self,val1,val2,oper):\n",
    "    self.val1 = val1\n",
    "    self.val2 = val2\n",
    "    self.oper = oper\n",
    "    \n",
    "  def calculate(self):\n",
    "    match self.oper:\n",
    "      case \"1\":\n",
    "        return f\"The sum of {self.val1} + {self.val2} = {round(self.val1 + self.val2,2)}.\"\n",
    "      case \"2\":\n",
    "        return f\"{self.val1} take away {self.val2} = {round(self.val1 - self.val2,2)}.\"\n",
    "      case \"3\":\n",
    "        return f\"The product of {self.val1} * {self.val2} = {round(self.val1 * self.val2,2)}.\"\n",
    "      case \"4\":\n",
    "        if self.val2 == 0:\n",
    "          return f\"You cannot divide by Zero\"\n",
    "        else:\n",
    "          return f\"The division of {self.val1} / {self.val2} = {round(self.val1 / self.val2,2)}.\"\n",
    "      case _:\n",
    "        return f\"Invalid Operation type, please enter valid Operation type.\"\n",
    "\n",
    "print(\"**********Welcome to simple calculator app!**********\") \n",
    "\n",
    "while True:\n",
    "  print(\"\\nChoose the operation type: \")\n",
    "  print(\"\\n1. Addition\\n2. Subtraction\\n3. Multiplication\\n4. Division\")\n",
    "  operation = input(\"Choose the operation type: \") \n",
    "  num1 = input(\"Enter the first number: \")    \n",
    "  num2 = input(\"Enter the second number: \")\n",
    "  \n",
    "  if num1.replace('.',\"\").isdigit() and num2.replace('.',\"\").isdigit():\n",
    "    num1 = float(num1) \n",
    "    num2 = float(num2) \n",
    "    calc = Calculator(num1,num2,operation)\n",
    "    print(calc.calculate()) \n",
    "    break\n",
    "  else:\n",
    "    print(\"Please enter valid values to perform the arithmetic operation.\")\n",
    "    break       \n",
    "          \n",
    "  "
   ]
  },
  {
   "cell_type": "code",
   "execution_count": null,
   "id": "1d9f6402",
   "metadata": {},
   "outputs": [],
   "source": [
    "# write a program to convert celsius to fahrenheit and fahrenheit to celsius\n",
    "def celsius_to_fahrenheit(celsius):\n",
    "  return (celsius * 9/5) +32\n",
    "\n",
    "def fahrenheit_to_celsius(fahrenheit):\n",
    "  return (fahrenheit - 32) * 5/9\n",
    "\n",
    "def convert_temperature(temperature,unit):\n",
    "  if unit == 'F':\n",
    "    result = fahrenheit_to_celsius(temperature)\n",
    "    return result\n",
    "  elif unit == 'C':\n",
    "    result = celsius_to_fahrenheit(temperature) \n",
    "    return result\n",
    "  else:\n",
    "    return \"Invalid Convertion type.\"\n",
    "    \n",
    "temp_c = 25\n",
    "temp_f = 77\n",
    "\n",
    "converted_f = convert_temperature(temp_c,'C')      \n",
    "converted_c = convert_temperature(temp_f,'F')   \n",
    "\n",
    "print(f\"{temp_c}°C is equal to {converted_f}°F\")\n",
    "print(f\"{temp_f}°F is equal to {converted_c}°C\")  "
   ]
  },
  {
   "cell_type": "code",
   "execution_count": null,
   "id": "9e899319",
   "metadata": {},
   "outputs": [],
   "source": [
    "# write a python function to make a sandwich\n",
    "def make_sandwich(bread_type, filling, cheese=None, toasted=False):\n",
    "    '''\n",
    "    Creates a sandwich with optional cheese and toasted params.\n",
    "    Args:\n",
    "        bread_type (str): The bread type (required).\n",
    "        filling (str): Filling of the sandwich (required).\n",
    "        cheese (str, optional): The cheese choice (defaults to None).\n",
    "        toasted (boolean, optional): Toasted option (defaults to False).\n",
    "    '''\n",
    "    if cheese and toasted:\n",
    "        return f\"Making a toasted {bread_type} sandwich with {filling} and {cheese} cheese.\"\n",
    "    elif cheese:\n",
    "        return f\"Making a {bread_type} sandwich with {filling} and {cheese} cheese.\"\n",
    "    elif toasted:\n",
    "        return f\"Making a toasted {bread_type} sandwich with {filling}.\"\n",
    "    else:\n",
    "        return f\"Making a {bread_type} sandwich with {filling}.\"\n",
    "\n",
    "sand1 = make_sandwich(\"wheat\", \"turkey\", \"cheddar\", True)\n",
    "sand2 = make_sandwich(\"rye\", \"ham\")\n",
    "\n",
    "print(sand1)    \n",
    "print(sand2)\n"
   ]
  },
  {
   "cell_type": "code",
   "execution_count": null,
   "id": "3bf894e8",
   "metadata": {},
   "outputs": [],
   "source": [
    "# dictionary example\n",
    "product_catalog = {\n",
    "  \"SKU123\":{\"name\":'Widget A',\"price\":19.99,\"quantity\":50},\n",
    "  \"SKU456\":{\"name\":'GadgetB',\"price\":34.95,\"quantity\":25},\n",
    "  \"SKU789\":{\"name\":'GizmoC',\"price\":9.99,\"quantity\":100},\n",
    "} \n",
    "product_catalog.get(\"SKU123\")[\"price\"]\n",
    "\n",
    "print(f\"The price of {product_catalog.get(\"SKU123\")[\"name\"]} is {product_catalog.get(\"SKU123\")[\"price\"]}\")"
   ]
  },
  {
   "cell_type": "code",
   "execution_count": 21,
   "id": "5803e6d2",
   "metadata": {},
   "outputs": [
    {
     "name": "stdout",
     "output_type": "stream",
     "text": [
      "'City \"Tampa\" not found in population data.'\n"
     ]
    }
   ],
   "source": [
    "# Error handling example\n",
    "city_populations = {\"New York\":8336817, \"Los Angeles\": 3979576, \"Chicago\": 2679044}\n",
    "city_name = \"Tampa\"\n",
    "\n",
    "def get_city_population(populations,city):\n",
    "  try:\n",
    "    population = populations[city]\n",
    "    return population\n",
    "  except KeyError:\n",
    "    raise KeyError (f'City \"{city}\" not found in population data.')\n",
    "\n",
    "try:  \n",
    "  result = get_city_population(city_populations,city_name) \n",
    "  print(f\"The population of {city_name} is: {result}.\")\n",
    "except KeyError as e:\n",
    "  print(e)\n",
    "except Exception as e:\n",
    "  print(e)  "
   ]
  },
  {
   "cell_type": "code",
   "execution_count": 25,
   "id": "929bbae8",
   "metadata": {},
   "outputs": [
    {
     "name": "stdout",
     "output_type": "stream",
     "text": [
      "Error: File not found - C:\\Users\\sarans\\OneDrive\\Desktop\\Python FullStack\\Assignments\\data\\Merged_Data_Highlighted.xlsx\n"
     ]
    }
   ],
   "source": [
    "# Error handling example 2\n",
    "file_path = r'C:\\Users\\sarans\\OneDrive\\Desktop\\Python FullStack\\Assignments\\data\\Merged_Data_Highlighted.xlsx'\n",
    "def read_file_contents(file_path):\n",
    "  try:\n",
    "    with open(file_path,'r') as file:\n",
    "      contents = file.read()\n",
    "      print(contents)\n",
    "  except FileNotFoundError:\n",
    "    print(\"Error: File not found -\", file_path)  \n",
    "\n",
    "read_file_contents(file_path)      \n",
    "  "
   ]
  },
  {
   "cell_type": "code",
   "execution_count": null,
   "id": "f2ac951c",
   "metadata": {},
   "outputs": [
    {
     "name": "stdout",
     "output_type": "stream",
     "text": [
      "Low: 2\n",
      "Medium: 2\n",
      "High: 2\n"
     ]
    }
   ],
   "source": [
    "def categorize_ratings(ratings):\n",
    "    low = 0\n",
    "    medium = 0\n",
    "    high = 0\n",
    "\n",
    "    for rating in ratings:\n",
    "        if 1 <= rating <= 4:\n",
    "            low += 1\n",
    "        elif 5 <= rating <= 7:\n",
    "            medium += 1\n",
    "        elif 8 <= rating <= 10:\n",
    "            high += 1\n",
    "\n",
    "    print(f\"Low: {low}\")\n",
    "    print(f\"Medium: {medium}\")\n",
    "    print(f\"High: {high}\")\n",
    "    \n",
    "categorize_ratings([1, 3, 5, 7, 8, 9]) "
   ]
  },
  {
   "cell_type": "code",
   "execution_count": null,
   "id": "56df918b",
   "metadata": {},
   "outputs": [
    {
     "name": "stdout",
     "output_type": "stream",
     "text": [
      "This is outer function 10\n",
      "This is inner function 30\n"
     ]
    }
   ],
   "source": [
    "# nested function modifying local variable example\n",
    "def outer_function():\n",
    "  x=10\n",
    "  print(\"This is outer function\",x)\n",
    "  def inner_function():\n",
    "    nonlocal x\n",
    "    x+=20\n",
    "    print(\"This is inner function\",x)\n",
    "  inner_function() \n",
    "outer_function()   "
   ]
  },
  {
   "cell_type": "code",
   "execution_count": null,
   "id": "354d9c4a",
   "metadata": {},
   "outputs": [
    {
     "name": "stdout",
     "output_type": "stream",
     "text": [
      "24\n"
     ]
    }
   ],
   "source": [
    "# recrusive funtion example\n",
    "def fact(n):\n",
    "  if n == 0:\n",
    "    return 1\n",
    "  return n * fact(n-1)\n",
    "  \n",
    "result = fact(4)  \n",
    "print(result)"
   ]
  },
  {
   "cell_type": "code",
   "execution_count": null,
   "id": "217ff7cc",
   "metadata": {},
   "outputs": [
    {
     "name": "stdout",
     "output_type": "stream",
     "text": [
      "[6000, 7000, 8000]\n"
     ]
    }
   ],
   "source": [
    "# using map with lambda example\n",
    "salaries = [5000, 6000, 7000]\n",
    "print(list(map(lambda sal: sal + 1000, salaries)))"
   ]
  },
  {
   "cell_type": "code",
   "execution_count": 13,
   "id": "feb38171",
   "metadata": {},
   "outputs": [
    {
     "name": "stdout",
     "output_type": "stream",
     "text": [
      "20000\n"
     ]
    }
   ],
   "source": [
    "# using reduce with lambda example\n",
    "from functools import reduce\n",
    "salaries = [2000,5000, 6000, 7000]\n",
    "print((reduce(lambda x,y: x+y, salaries)))"
   ]
  },
  {
   "cell_type": "code",
   "execution_count": null,
   "id": "e01007ca",
   "metadata": {},
   "outputs": [
    {
     "name": "stdout",
     "output_type": "stream",
     "text": [
      "[1, 2, 3, 4, 5, 6]\n",
      "[5, 3, 4, 1, 6, 2]\n"
     ]
    }
   ],
   "source": [
    "#shuffle a list using random.shuffle()\n",
    "import random\n",
    "l={1,2,3,4,5,6}\n",
    "l1 = list(l)\n",
    "print(l1)\n",
    "random.shuffle(l1)\n",
    "print(l1)"
   ]
  },
  {
   "cell_type": "code",
   "execution_count": 1,
   "id": "29bc61e3",
   "metadata": {},
   "outputs": [
    {
     "name": "stdout",
     "output_type": "stream",
     "text": [
      "Student is NOT eligible to write the exam.\n"
     ]
    }
   ],
   "source": [
    "# write a program to check if the student assignment percentage  >=70 and attendence >= 80 is eligible for exam\n",
    "\n",
    "assignment = 69\n",
    "attendence = 81\n",
    "\n",
    "if assignment >= 70 and attendence >= 80:\n",
    "  print(\"Student is eligible to write the exam.\")\n",
    "else:\n",
    "  print('Student is NOT eligible to write the exam.')  \n"
   ]
  },
  {
   "cell_type": "code",
   "execution_count": 4,
   "id": "4bf4e66b",
   "metadata": {},
   "outputs": [
    {
     "name": "stdout",
     "output_type": "stream",
     "text": [
      "Enjoy the weather.\n"
     ]
    }
   ],
   "source": [
    "# write a program on weather app if its raining or snowing carry a umberla\n",
    "# if its sunny or cloudy enjoy the weather\n",
    "raining = True\n",
    "snowing = True\n",
    "cloudy = False\n",
    "sunny = False\n",
    "\n",
    "if not raining or not snowing:\n",
    "  print(\"No need to carry the umberla.\")\n",
    "if not cloudy or not sunny:\n",
    "  print(\"Enjoy the weather.\")\n",
    "   "
   ]
  },
  {
   "cell_type": "code",
   "execution_count": null,
   "id": "154c64ae",
   "metadata": {},
   "outputs": [
    {
     "name": "stdout",
     "output_type": "stream",
     "text": [
      "24\n"
     ]
    }
   ],
   "source": [
    "# find the factorial using math module\n",
    "from math import factorial as fact\n",
    "print(fact(4))"
   ]
  },
  {
   "cell_type": "code",
   "execution_count": 25,
   "id": "c13a44c5",
   "metadata": {},
   "outputs": [
    {
     "name": "stdout",
     "output_type": "stream",
     "text": [
      "Tails\n"
     ]
    }
   ],
   "source": [
    "# write a program on coin toss using random module\n",
    "import random\n",
    "options = [\"Tails\",\"Heads\"]\n",
    "toss = random.randint(0,1)\n",
    "print(options[toss])"
   ]
  },
  {
   "cell_type": "code",
   "execution_count": 27,
   "id": "1c8e9df3",
   "metadata": {},
   "outputs": [
    {
     "name": "stdout",
     "output_type": "stream",
     "text": [
      "The area of rectangle for given length 5 and breadth 3 = 15\n"
     ]
    }
   ],
   "source": [
    "# write a program to find out the area of rectangle\n",
    "\n",
    "def area(length,breadth):\n",
    "  return length * breadth\n",
    "\n",
    "length =5\n",
    "breadth = 3\n",
    "\n",
    "result = area(length,breadth)\n",
    "print(f\"The area of rectangle for given length {length} and breadth {breadth} = {result}\")"
   ]
  },
  {
   "cell_type": "code",
   "execution_count": null,
   "id": "525b1a8e",
   "metadata": {},
   "outputs": [
    {
     "name": "stdout",
     "output_type": "stream",
     "text": [
      "Pass\n"
     ]
    }
   ],
   "source": [
    "# write a program that take student mark if mark greater than 35 is pass else fail\n",
    "def grade(mark):\n",
    "  if mark > 35:\n",
    "    return \"Pass\"\n",
    "  return \"Fail\"\n",
    "res = grade(36) \n",
    "print(res)"
   ]
  },
  {
   "cell_type": "code",
   "execution_count": null,
   "id": "2c3efda2",
   "metadata": {},
   "outputs": [
    {
     "name": "stdout",
     "output_type": "stream",
     "text": [
      "Hello, John\n",
      "Hello, Sally\n",
      "Hello, Peter\n"
     ]
    }
   ],
   "source": [
    "# write a program to create a list consits of names and print each name with the greeting \"Hello\"\n",
    "names = ['John','Sally','Peter']\n",
    "for name in names:\n",
    "  print(f\"Hello, {name}\")"
   ]
  },
  {
   "cell_type": "code",
   "execution_count": 2,
   "id": "c7c4d4ef",
   "metadata": {},
   "outputs": [
    {
     "name": "stdout",
     "output_type": "stream",
     "text": [
      "Wednesday 2025-04-30 13:35:55.658148\n",
      "Tuesday 2025-04-29 13:35:55.658148\n"
     ]
    }
   ],
   "source": [
    "import pandas as pd\n",
    "from datetime import datetime, timedelta\n",
    "\n",
    "\n",
    "# Function to get the Wednesday of the current week\n",
    "def get_current_week_wednesday():\n",
    "    today = datetime.now()\n",
    "    start_of_week = today - timedelta(days=today.weekday())\n",
    "    wednesday = start_of_week + timedelta(days=2)\n",
    "    return wednesday\n",
    "result = get_current_week_wednesday()  \n",
    "\n",
    "review_week_tuesday = result - timedelta(days=1)\n",
    "\n",
    "print(\"Wednesday\",result)\n",
    "print(\"Tuesday\",review_week_tuesday)"
   ]
  },
  {
   "cell_type": "code",
   "execution_count": null,
   "id": "a7cb0c0c",
   "metadata": {},
   "outputs": [
    {
     "name": "stdout",
     "output_type": "stream",
     "text": [
      "Valid Email: abc@test.com\n",
      "Invalid Email: bdc@test@aol.com\n",
      "Invalid Email: gef@.test.123@aol.com\n",
      "Valid Email: john@yahoo.com\n",
      "Invalid Email: peter@123@gmail.com\n"
     ]
    }
   ],
   "source": [
    "#regex to match emails\n",
    "import re\n",
    "emails = ['abc@test.com','bdc@test@aol.com','gef@.test.123@aol.com','john@yahoo.com','peter@123@gmail.com']\n",
    "\n",
    "pattern = re.compile(r'\\b[A-Za-z0-9._%+-]+@[A-Za-z0-9.-]+\\.[A-Za-z]{2,}\\b')\n",
    "\n",
    "for email in emails:\n",
    "   if pattern.match(email):\n",
    "      print(\"Valid Email:\",email)\n",
    "   else:\n",
    "      print(\"Invalid Email:\",email)   "
   ]
  },
  {
   "cell_type": "code",
   "execution_count": 3,
   "id": "eb6171af",
   "metadata": {},
   "outputs": [
    {
     "name": "stdout",
     "output_type": "stream",
     "text": [
      "test@example.com is a valid email.\n",
      "invalid.email is not a valid email.\n",
      "another_test@domain.co.uk is a valid email.\n",
      "not_valid@.com is not a valid email.\n",
      "user+123@company.net is a valid email.\n"
     ]
    }
   ],
   "source": [
    "#validate email\n",
    "import re\n",
    "\n",
    "def validate_email(email):\n",
    "  \"\"\"\n",
    "  Validates an email address using a regular expression.\n",
    "\n",
    "  Args:\n",
    "    email: The email address to validate.\n",
    "\n",
    "  Returns:\n",
    "    True if the email is valid, False otherwise.  \"\"\"\n",
    "\n",
    "  email_pattern = r\"\\b[A-Za-z0-9._%+-]+@[A-Za-z0-9.-]+\\.[A-Za-z]{2,}\\b\"\n",
    "  if re.match(email_pattern,email):\n",
    "    return True\n",
    "  else:\n",
    "    return False  \n",
    "  \n",
    "\n",
    "  if pattern.match(email):\n",
    "    return True\n",
    "  else:\n",
    "    return False  \n",
    "\n",
    "# Test cases\n",
    "emails = [\n",
    "    \"test@example.com\",\n",
    "    \"invalid.email\",\n",
    "    \"another_test@domain.co.uk\",\n",
    "    \"not_valid@.com\",\n",
    "    \"user+123@company.net\"\n",
    "]\n",
    "\n",
    "# Validate each email and print the result\n",
    "for email in emails:\n",
    "  if validate_email(email):\n",
    "    print(f\"{email} is a valid email.\")\n",
    "  else:\n",
    "    print(f\"{email} is not a valid email.\")"
   ]
  },
  {
   "cell_type": "code",
   "execution_count": 10,
   "id": "86541f43",
   "metadata": {},
   "outputs": [
    {
     "name": "stdout",
     "output_type": "stream",
     "text": [
      "Before filling missing values:\n",
      "   price\n",
      "0  100.0\n",
      "1  150.0\n",
      "2    NaN\n",
      "3  200.0\n",
      "4    NaN\n",
      "5  180.0\n",
      "6  120.0\n",
      "\n",
      "After filling missing values:\n",
      "   price\n",
      "0  100.0\n",
      "1  150.0\n",
      "2  150.0\n",
      "3  200.0\n",
      "4  150.0\n",
      "5  180.0\n",
      "6  120.0\n"
     ]
    }
   ],
   "source": [
    "#filling missing values with median\n",
    "import pandas as pd\n",
    "import numpy as np\n",
    "\n",
    "# Create a DataFrame with missing values\n",
    "data = {'price': [100, 150, np.nan, 200, np.nan, 180, 120]}\n",
    "df = pd.DataFrame(data)\n",
    "\n",
    "# Print the DataFrame before filling missing values\n",
    "print(\"Before filling missing values:\")\n",
    "print(df)\n",
    "\n",
    "# Fill missing values directly in the 'price' column\n",
    "df['price'] = df['price'].fillna(df['price'].median())\n",
    "\n",
    "\n",
    "# Print the DataFrame after filling missing values\n",
    "print(\"\\nAfter filling missing values:\")\n",
    "print(df)\n"
   ]
  }
 ],
 "metadata": {
  "kernelspec": {
   "display_name": "Python 3",
   "language": "python",
   "name": "python3"
  },
  "language_info": {
   "codemirror_mode": {
    "name": "ipython",
    "version": 3
   },
   "file_extension": ".py",
   "mimetype": "text/x-python",
   "name": "python",
   "nbconvert_exporter": "python",
   "pygments_lexer": "ipython3",
   "version": "3.12.3"
  }
 },
 "nbformat": 4,
 "nbformat_minor": 5
}
