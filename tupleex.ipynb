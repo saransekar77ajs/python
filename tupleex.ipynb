{
 "cells": [
  {
   "cell_type": "code",
   "execution_count": 5,
   "id": "7357c781",
   "metadata": {},
   "outputs": [
    {
     "name": "stdout",
     "output_type": "stream",
     "text": [
      "(11, [22, 23], 44, 55)\n",
      "(11, [222, 23], 44, 55)\n"
     ]
    }
   ],
   "source": [
    "# write a program to modify the first item of a list which is inside the tuple\n",
    "\n",
    "tup1 = (11,[22,23],44,55)\n",
    "print(tup1)\n",
    "tup1[1][0] = 222\n",
    "print(tup1)"
   ]
  },
  {
   "cell_type": "code",
   "execution_count": 7,
   "id": "c0d9feb1",
   "metadata": {},
   "outputs": [
    {
     "name": "stdout",
     "output_type": "stream",
     "text": [
      "True\n",
      "False\n"
     ]
    }
   ],
   "source": [
    "# write a program to check if all items in the following tuple are the same\n",
    "\n",
    "tup1 = (45,45,45,45)\n",
    "tup2 = (45,45,45,50)\n",
    "\n",
    "x = tup1[0] == tup1[1] == tup1[2]==tup1[3]\n",
    "y = tup2[0] == tup2[1] == tup2[2]==tup2[3]\n",
    "print(x)\n",
    "print(y)\n",
    "  "
   ]
  },
  {
   "cell_type": "code",
   "execution_count": 8,
   "id": "f46d3709",
   "metadata": {},
   "outputs": [
    {
     "name": "stdout",
     "output_type": "stream",
     "text": [
      "['Dhoni', 'Virat', 'Rohit', 'Jadeja', 'KL Rahul', 'Hardik', 'Shreyas', 'Ashwin']\n",
      "('Dhoni', 'Virat', 'Rohit', 'Jadeja', 'KL Rahul', 'Hardik', 'Shreyas')\n"
     ]
    }
   ],
   "source": [
    "# write a program to remove the required item from a tuple\n",
    "players = ('Dhoni','Virat','Rohit','Jadeja','KL Rahul','Hardik','Shreyas','Ashwin')\n",
    "\n",
    "players = list(players)\n",
    "print(players)\n",
    "\n",
    "players.remove('Ashwin')\n",
    "players = tuple(players)\n",
    "\n",
    "print(players)"
   ]
  },
  {
   "cell_type": "code",
   "execution_count": null,
   "id": "7e69fa7b",
   "metadata": {},
   "outputs": [
    {
     "name": "stdout",
     "output_type": "stream",
     "text": [
      "[(1, 3, 8), (2, 4, 9)]\n"
     ]
    }
   ],
   "source": [
    "# write a program to get the desired output\n",
    "# nums = [(1,2), (3,4), (8,9)]\n",
    "# expected output [(1, 3, 8), (2, 4, 9)]\n",
    "\n",
    "nums = [(1,2), (3,4), (8,9)]\n",
    "num1=[]\n",
    "num2=[]\n",
    "\n",
    "for num in nums: \n",
    "  num1.append(num[0])\n",
    "  num2.append(num[1])\n",
    "\n",
    "result = [tuple(num1), tuple(num2)]\n",
    "\n",
    "print(result)"
   ]
  }
 ],
 "metadata": {
  "kernelspec": {
   "display_name": "Python 3",
   "language": "python",
   "name": "python3"
  },
  "language_info": {
   "codemirror_mode": {
    "name": "ipython",
    "version": 3
   },
   "file_extension": ".py",
   "mimetype": "text/x-python",
   "name": "python",
   "nbconvert_exporter": "python",
   "pygments_lexer": "ipython3",
   "version": "3.12.3"
  }
 },
 "nbformat": 4,
 "nbformat_minor": 5
}
