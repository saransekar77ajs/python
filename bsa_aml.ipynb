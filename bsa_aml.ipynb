{
 "cells": [
  {
   "cell_type": "code",
   "execution_count": 1,
   "id": "958c92b4",
   "metadata": {},
   "outputs": [],
   "source": [
    "import pandas as pd\n",
    "from openpyxl import Workbook\n",
    "from openpyxl.styles import PatternFill"
   ]
  },
  {
   "cell_type": "code",
   "execution_count": 2,
   "id": "05a5bc2b",
   "metadata": {},
   "outputs": [],
   "source": [
    "week1_Sheets = [\"Week1Customer\",\"Week1Monitoring\",\"Week1Transaction\"]\n",
    "week2_Sheets = [\"Week2Customer\",\"Week2Monitoring\",\"Week2Transaction\"]\n",
    "file_path = r\"C:\\Users\\saran\\OneDrive - sarokshllc.com\\BSA_AML_TEST_DATA.xlsx\"\n",
    "week1_df = [pd.read_excel(file_path,sheet_name=sheet) for sheet in week1_Sheets]\n",
    "week2_df = [pd.read_excel(file_path,sheet_name=sheet) for sheet in week2_Sheets]\n",
    "\n",
    "week1_df = pd.concat(week1_df,ignore_index=True)\n",
    "week2_df = pd.concat(week2_df,ignore_index=True)\n"
   ]
  },
  {
   "cell_type": "code",
   "execution_count": 3,
   "id": "d1110b9c",
   "metadata": {},
   "outputs": [],
   "source": [
    "pd.set_option('display.max_rows',40)\n",
    "pd.set_option('display.max_columns',40)"
   ]
  },
  {
   "cell_type": "code",
   "execution_count": null,
   "id": "1cc8575f",
   "metadata": {},
   "outputs": [],
   "source": [
    "week1_df.head()\n",
    "week2_df.head()"
   ]
  },
  {
   "cell_type": "code",
   "execution_count": 4,
   "id": "c75f1c95",
   "metadata": {},
   "outputs": [],
   "source": [
    "# merge both week data\n",
    "merged_data = week1_df.merge(week2_df, on=['Title','DataSourceID'],suffixes=(\"_week1\",\"_week2\"), how=\"outer\")"
   ]
  },
  {
   "cell_type": "code",
   "execution_count": 5,
   "id": "307955c0",
   "metadata": {},
   "outputs": [],
   "source": [
    "# Compare values and flag changes\n",
    "columns_to_check = [col for col in week1_df.columns if col not in [\"Date\", \"DataSourceID\", \"Title\"]]\n",
    "\n",
    "# Add a \"Has_Changes\" column\n",
    "merged_data[\"Has_Changes\"] = merged_data.apply(\n",
    "    lambda row: any(\n",
    "        row.get(f\"{col}_week1\") != row.get(f\"{col}_week2\")\n",
    "        for col in columns_to_check\n",
    "        if f\"{col}_week1\" in merged_data.columns and f\"{col}_week2\" in merged_data.columns       \n",
    "    ),\n",
    "    axis=1\n",
    ")"
   ]
  },
  {
   "cell_type": "code",
   "execution_count": 6,
   "id": "f841754e",
   "metadata": {},
   "outputs": [
    {
     "name": "stdout",
     "output_type": "stream",
     "text": [
      "Task completed! Output saved to 'Merged_Data_Highlighted.xlsx'\n"
     ]
    }
   ],
   "source": [
    "# Export to Excel with Highlighting\n",
    "wb = Workbook()\n",
    "ws = wb.active\n",
    "\n",
    "# Write headers\n",
    "headers = list(merged_data.columns)\n",
    "ws.append(headers)\n",
    "\n",
    "# Apply cell formatting for changes\n",
    "yellow_fill = PatternFill(start_color=\"FFFF00\", end_color=\"FFFF00\", fill_type=\"solid\")\n",
    "\n",
    "# Write data and apply highlights\n",
    "for index, row in merged_data.iterrows():\n",
    "    for col_idx, col in enumerate(headers, start=1):\n",
    "        # Write the cell value\n",
    "        ws.cell(row=index + 2, column=col_idx, value=row[col])\n",
    "        \n",
    "        # Highlight changes (check only matching _week1 and _week2 columns)\n",
    "        if col.endswith(\"_week1\") and col.replace(\"_week1\", \"\") in columns_to_check:\n",
    "            base_col = col.replace(\"_week1\", \"\")  # Get the base column name\n",
    "            week2_col = f\"{base_col}_week2\"      # Corresponding _week2 column\n",
    "            if week2_col in headers:             # Ensure _week2 column exists\n",
    "                value_week1 = row[col]\n",
    "                value_week2 = row.get(week2_col)\n",
    "                \n",
    "                # Check if values are different, accounting for nulls\n",
    "                if pd.notna(value_week1) and pd.notna(value_week2) and value_week1 != value_week2:\n",
    "                    # Highlight _week1 and _week2 cells if values differ\n",
    "                    ws.cell(row=index + 2, column=col_idx).fill = yellow_fill\n",
    "                    ws.cell(row=index + 2, column=headers.index(week2_col) + 1).fill = yellow_fill\n",
    "                elif (pd.isna(value_week1) and pd.notna(value_week2)) or (pd.notna(value_week1) and pd.isna(value_week2)):\n",
    "                    # Highlight if one is null and the other is not\n",
    "                    ws.cell(row=index + 2, column=col_idx).fill = yellow_fill\n",
    "                    ws.cell(row=index + 2, column=headers.index(week2_col) + 1).fill = yellow_fill\n",
    "\n",
    "# Save the Excel file\n",
    "wb.save(\"Merged_Data_Highlighted.xlsx\")\n",
    "\n",
    "print(\"Task completed! Output saved to 'Merged_Data_Highlighted.xlsx'\")"
   ]
  }
 ],
 "metadata": {
  "kernelspec": {
   "display_name": "Python 3",
   "language": "python",
   "name": "python3"
  },
  "language_info": {
   "codemirror_mode": {
    "name": "ipython",
    "version": 3
   },
   "file_extension": ".py",
   "mimetype": "text/x-python",
   "name": "python",
   "nbconvert_exporter": "python",
   "pygments_lexer": "ipython3",
   "version": "3.12.3"
  }
 },
 "nbformat": 4,
 "nbformat_minor": 5
}
