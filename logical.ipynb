{
 "cells": [
  {
   "cell_type": "code",
   "execution_count": null,
   "id": "4176985a",
   "metadata": {},
   "outputs": [],
   "source": [
    "#write a program to find out the factorial of the given number\n",
    "num = int(input(\"Enter the number you want to find out the factorial\\n\"))\n",
    "\n",
    "fact = 1\n",
    "\n",
    "for n in range(1,num+1):\n",
    "  fact*=n\n",
    "print(f\"Factorial for the given number '{num}' is {fact}.\")  "
   ]
  },
  {
   "cell_type": "code",
   "execution_count": null,
   "id": "69365e14",
   "metadata": {},
   "outputs": [
    {
     "name": "stdout",
     "output_type": "stream",
     "text": [
      "0 1 1 2 3 5 8 13 21 34 "
     ]
    }
   ],
   "source": [
    "# write a program to find out the fibanacci series for a given number\n",
    "\n",
    "num = int(input(\"Enter the number of terms you want in the Fibonacci series:\\n\"))\n",
    "a, b = 0, 1\n",
    "\n",
    "# Print the first two terms\n",
    "print(a, b, end=\" \")\n",
    "\n",
    "# Loop to generate the series\n",
    "for n in range(num - 2):  # num-2 because we already have the first two terms\n",
    "    c = a + b\n",
    "    print(c, end=\" \")\n",
    "    a, b = b, c"
   ]
  },
  {
   "cell_type": "code",
   "execution_count": null,
   "id": "58a7ef83",
   "metadata": {},
   "outputs": [
    {
     "name": "stdout",
     "output_type": "stream",
     "text": [
      "The factors of the given number '5' are [1, 5].\n"
     ]
    }
   ],
   "source": [
    "# 1. write a program to find out the factors of the given number\n",
    "num = int(input(\"Enter the number you want to find the factors:\\n\"))\n",
    "factors = []\n",
    "for i in range(1,num+1):\n",
    "  if num%i==0:\n",
    "    factors.append(i)\n",
    "  else:\n",
    "    continue\n",
    "print(f\"The factors of the given number '{num}' are {factors}.\")    \n",
    "    "
   ]
  },
  {
   "cell_type": "code",
   "execution_count": null,
   "id": "91852bd3",
   "metadata": {},
   "outputs": [
    {
     "name": "stdout",
     "output_type": "stream",
     "text": [
      "The sum of the given range '5' is 15.\n"
     ]
    }
   ],
   "source": [
    "# write a program to calculate the sum of the given number\n",
    "num = int(input(\"Enter the range to calculate the sum:\\n\"))\n",
    "total = 0\n",
    "\n",
    "for n in range(1,num+1):\n",
    "  total+=n\n",
    "  \n",
    "print(f\"The sum of the given range '{num}' is {total}.\")  "
   ]
  },
  {
   "cell_type": "code",
   "execution_count": null,
   "id": "e556ada6",
   "metadata": {},
   "outputs": [
    {
     "name": "stdout",
     "output_type": "stream",
     "text": [
      "The sum of the given range '123' is 6.\n"
     ]
    }
   ],
   "source": [
    "# 2. write a program to calculate the sum of the digits of the given number\n",
    "num = input(\"Enter the number to calculate the sum of its digits:\\n\")\n",
    "total = 0\n",
    "\n",
    "for n in num:\n",
    "  n = int(n)\n",
    "  total+=n\n",
    "  \n",
    "print(f\"The sum of the given range '{num}' is {total}.\")  "
   ]
  },
  {
   "cell_type": "code",
   "execution_count": null,
   "id": "ca9c94e7",
   "metadata": {},
   "outputs": [
    {
     "name": "stdout",
     "output_type": "stream",
     "text": [
      "407 is not a prime number\n",
      "11 times 37 is 407\n"
     ]
    }
   ],
   "source": [
    "# 2. Write a program to check whether the given number is prime number or not\n",
    "num = 407\n",
    "#num = int(input(\"Enter a number: \"))\n",
    "\n",
    "if num == 0 or num == 1:\n",
    "    print(num, \"is not a prime number\")\n",
    "elif num > 1:\n",
    "   # check for factors\n",
    "   for i in range(2,num):\n",
    "       if (num % i) == 0:\n",
    "           print(num,\"is not a prime number\")\n",
    "           print(i,\"times\",num//i,\"is\",num)\n",
    "           break\n",
    "   else:\n",
    "       print(num,\"is a prime number\")\n",
    "       \n",
    "# if input number is less than\n",
    "# or equal to 1, it is not prime\n",
    "else:\n",
    "   print(num,\"is not a prime number\")\n"
   ]
  },
  {
   "cell_type": "code",
   "execution_count": null,
   "id": "9e95f103",
   "metadata": {},
   "outputs": [
    {
     "name": "stdout",
     "output_type": "stream",
     "text": [
      "Reversed number is: 987654321\n"
     ]
    }
   ],
   "source": [
    "# 3. write a program to reverse the given number mathematically\n",
    "num = 1234567890\n",
    "#num = int(input(\"Enter a number: \"))\n",
    "reversed_num = 0\n",
    "while num > 0:\n",
    "    reversed_num = reversed_num * 10 + num % 10\n",
    "    num = num // 10\n",
    "print(\"Reversed number is:\", reversed_num)  \n"
   ]
  },
  {
   "cell_type": "code",
   "execution_count": null,
   "id": "0d8f9eb1",
   "metadata": {},
   "outputs": [
    {
     "name": "stdout",
     "output_type": "stream",
     "text": [
      "Reversed number is: 0987654321\n"
     ]
    }
   ],
   "source": [
    "# 3. write a program to reverse the given number\n",
    "num = 1234567890\n",
    "#num = int(input(\"Enter a number: \"))\n",
    "\n",
    "reversed_num = str(num)[::-1]\n",
    "print(\"Reversed number is:\", reversed_num)"
   ]
  },
  {
   "cell_type": "code",
   "execution_count": null,
   "id": "7c7b4b0d",
   "metadata": {},
   "outputs": [
    {
     "name": "stdout",
     "output_type": "stream",
     "text": [
      "Reversed number is: 121\n",
      "The given number 121 is palindrome 121.\n"
     ]
    }
   ],
   "source": [
    "# 4. write a program to check if the given number is palindrome or not\n",
    "num = 121\n",
    "#num = int(input(\"Enter a number: \"))\n",
    "original_num = num\n",
    "reversed_num = 0\n",
    "while num > 0:\n",
    "    reversed_num = reversed_num * 10 + num % 10\n",
    "    num = num // 10\n",
    "print(\"Reversed number is:\", reversed_num)\n",
    "\n",
    "if original_num == reversed_num:\n",
    "  print(f\"The given number {original_num} is palindrome {reversed_num}.\")\n",
    "else:\n",
    "  print(f\"The given number {original_num} is NOT palindrome {reversed_num}.\") "
   ]
  },
  {
   "cell_type": "code",
   "execution_count": null,
   "id": "dbefc336",
   "metadata": {},
   "outputs": [
    {
     "name": "stdout",
     "output_type": "stream",
     "text": [
      "The given number 121 is palindrome 121.\n"
     ]
    }
   ],
   "source": [
    "# 4. write a program to check if the given number is palindrome or not\n",
    "num = 121\n",
    "reversed_num = str(num)[::-1]\n",
    "#num = int(input(\"Enter a number: \"))\n",
    "if str(num) == reversed_num:\n",
    "    print(f\"The given number {num} is palindrome {reversed_num}.\")\n",
    "else:\n",
    "  print(f\"The given number {num} is NOT palindrome {reversed_num}.\") "
   ]
  },
  {
   "cell_type": "code",
   "execution_count": 42,
   "id": "6fa6493d",
   "metadata": {},
   "outputs": [
    {
     "name": "stdout",
     "output_type": "stream",
     "text": [
      "153 is an Armstrong number!\n"
     ]
    }
   ],
   "source": [
    "# 5. write a program to check if the given number is Armstrong number or not\n",
    "\n",
    "num = 153\n",
    "# num = int(input(\"Enter a number: \"))\n",
    "\n",
    "original_num = num\n",
    "num_digits = len(str(num))\n",
    "total = 0\n",
    "\n",
    "while num > 0:\n",
    "    digit = num % 10\n",
    "    total += digit ** num_digits\n",
    "    num = num // 10\n",
    "\n",
    "if total == original_num:\n",
    "    print(f\"{original_num} is an Armstrong number!\")\n",
    "else:\n",
    "    print(f\"{original_num} is NOT an Armstrong number.\")"
   ]
  },
  {
   "cell_type": "code",
   "execution_count": null,
   "id": "96d768ef",
   "metadata": {},
   "outputs": [
    {
     "name": "stdout",
     "output_type": "stream",
     "text": [
      "The given number 100 is NOT a perfect number.\n"
     ]
    }
   ],
   "source": [
    "# 6. write a program to check if the given number is perfect number or not\n",
    "\n",
    "num = 100\n",
    "#num = int(input(\"Enter the number to check if its a perfect number:\"))\n",
    "total=0\n",
    "\n",
    "for i in range(1,num):\n",
    "  if num%i==0:\n",
    "    total+=i\n",
    "  else:\n",
    "    continue  \n",
    "  \n",
    "if total == num:\n",
    "  print(f\"The given number {num} is a perfect number.\") \n",
    "else:\n",
    "  print(f\"The given number {num} is NOT a perfect number.\")"
   ]
  },
  {
   "cell_type": "code",
   "execution_count": null,
   "id": "02ae2a8e",
   "metadata": {},
   "outputs": [
    {
     "name": "stdout",
     "output_type": "stream",
     "text": [
      "Prime numbers between 10 and 100 are:\n",
      "11 13 17 19 23 29 31 37 41 43 47 53 59 61 67 71 73 79 83 89 97 "
     ]
    }
   ],
   "source": [
    "# 7. write a program to print prime numbers for an given range\n",
    "start = int(input(\"Enter the starting range: \"))\n",
    "end = int(input(\"Enter the ending range: \"))\n",
    "print(f\"Prime numbers between {start} and {end} are:\")\n",
    "for num in range(start, end + 1):\n",
    "    if num > 1:\n",
    "        for i in range(2, int(num**0.5) + 1):\n",
    "            if num % i == 0:\n",
    "                break\n",
    "        else:\n",
    "            print(num, end=\" \")"
   ]
  },
  {
   "cell_type": "code",
   "execution_count": null,
   "id": "36388bb7",
   "metadata": {},
   "outputs": [
    {
     "name": "stdout",
     "output_type": "stream",
     "text": [
      "Armstrong numbers from 1 to 1000 are: [1, 2, 3, 4, 5, 6, 7, 8, 9, 153, 370, 371, 407]\n",
      "1, 2, 3, 4, 5, 6, 7, 8, 9, 153, 370, 371, 407\n"
     ]
    }
   ],
   "source": [
    "# 8. write a program to print Armstrong numbers up to a range\n",
    "\n",
    "upto_range = 1000  \n",
    "# upto_range= int(input(\"Enter the upper range: \"))\n",
    "\n",
    "armstrong_numbers = []\n",
    "\n",
    "for num in range(1, upto_range + 1):\n",
    "    num_digits = len(str(num))\n",
    "    total = 0\n",
    "    temp = num\n",
    "\n",
    "    while temp > 0:\n",
    "        digit = temp % 10\n",
    "        total += digit ** num_digits\n",
    "        temp = temp // 10\n",
    "\n",
    "    if total == num:\n",
    "        armstrong_numbers.append(num)\n",
    "print(f\"Armstrong numbers from 1 to {upto_range} are: {armstrong_numbers}\")"
   ]
  },
  {
   "cell_type": "code",
   "execution_count": null,
   "id": "3f8748f5",
   "metadata": {},
   "outputs": [
    {
     "name": "stdout",
     "output_type": "stream",
     "text": [
      "The sum of the first 5 natural numbers is: 15\n"
     ]
    }
   ],
   "source": [
    "# 9. write a program to find sum of the first N natural numbers\n",
    "n = int(input(\"Enter the value of N: \"))\n",
    "sum_natural = n * (n + 1) // 2  # Using the formula\n",
    "print(f\"The sum of the first {n} natural numbers is: {sum_natural}\")"
   ]
  },
  {
   "cell_type": "code",
   "execution_count": 53,
   "id": "5dd91114",
   "metadata": {},
   "outputs": [
    {
     "name": "stdout",
     "output_type": "stream",
     "text": [
      "The sum of the first 5 natural numbers is: 15\n"
     ]
    }
   ],
   "source": [
    "# 9. write a program to find sum of the first N natural numbers\n",
    "n = int(input(\"Enter the value of N: \"))\n",
    "sum_natural = 0\n",
    "\n",
    "for i in range(1, n + 1):\n",
    "    sum_natural += i  \n",
    "\n",
    "print(f\"The sum of the first {n} natural numbers is: {sum_natural}\")"
   ]
  },
  {
   "cell_type": "code",
   "execution_count": null,
   "id": "90a6091f",
   "metadata": {},
   "outputs": [
    {
     "name": "stdout",
     "output_type": "stream",
     "text": [
      "10 x 1 = 10\n",
      "10 x 2 = 20\n",
      "10 x 3 = 30\n",
      "10 x 4 = 40\n",
      "10 x 5 = 50\n",
      "10 x 6 = 60\n",
      "10 x 7 = 70\n",
      "10 x 8 = 80\n",
      "10 x 9 = 90\n",
      "10 x 10 = 100\n"
     ]
    }
   ],
   "source": [
    "# 10. write a program to display the nth tableprint multiplication table for an given\n",
    "num = int(input(\"Enter the number you want to print the multiplication table\"))\n",
    "n=1\n",
    "while n<=10:\n",
    "  print(f\"{num} x {n} = {n*num}\")\n",
    "  n+=1"
   ]
  },
  {
   "cell_type": "code",
   "execution_count": null,
   "id": "ffd90b02",
   "metadata": {},
   "outputs": [],
   "source": [
    "# write a program to check if given 2 numbers are Twin primes or not"
   ]
  },
  {
   "cell_type": "code",
   "execution_count": 1,
   "id": "13b0d2b9",
   "metadata": {},
   "outputs": [
    {
     "ename": "TypeError",
     "evalue": "'str' object doesn't support item deletion",
     "output_type": "error",
     "traceback": [
      "\u001b[1;31m---------------------------------------------------------------------------\u001b[0m",
      "\u001b[1;31mTypeError\u001b[0m                                 Traceback (most recent call last)",
      "Cell \u001b[1;32mIn[1], line 3\u001b[0m\n\u001b[0;32m      1\u001b[0m \u001b[38;5;66;03m# write a program to\u001b[39;00m\n\u001b[0;32m      2\u001b[0m s\u001b[38;5;241m=\u001b[39m\u001b[38;5;124m\"\u001b[39m\u001b[38;5;124mpython\u001b[39m\u001b[38;5;124m\"\u001b[39m\n\u001b[1;32m----> 3\u001b[0m \u001b[38;5;28;01mdel\u001b[39;00m \u001b[43ms\u001b[49m\u001b[43m[\u001b[49m\u001b[38;5;241;43m0\u001b[39;49m\u001b[43m]\u001b[49m\n",
      "\u001b[1;31mTypeError\u001b[0m: 'str' object doesn't support item deletion"
     ]
    }
   ],
   "source": [
    "# write a program to\n",
    "s=\"python\"\n",
    "del s[0]"
   ]
  }
 ],
 "metadata": {
  "kernelspec": {
   "display_name": "Python 3",
   "language": "python",
   "name": "python3"
  },
  "language_info": {
   "codemirror_mode": {
    "name": "ipython",
    "version": 3
   },
   "file_extension": ".py",
   "mimetype": "text/x-python",
   "name": "python",
   "nbconvert_exporter": "python",
   "pygments_lexer": "ipython3",
   "version": "3.12.3"
  }
 },
 "nbformat": 4,
 "nbformat_minor": 5
}
