{
 "cells": [
  {
   "cell_type": "code",
   "execution_count": 1,
   "id": "ce38e89e",
   "metadata": {},
   "outputs": [
    {
     "data": {
      "text/plain": [
       "{'ID': 101, 'Name': 'Venu Gopal'}"
      ]
     },
     "execution_count": 1,
     "metadata": {},
     "output_type": "execute_result"
    }
   ],
   "source": [
    "# Make the following data into list of tuples and convert into dictionary (B).\n",
    "# Id =101, Name =Venu Gopal\n",
    "data = [(\"ID\",101),(\"Name\",\"Venu Gopal\")]\n",
    "dict_data = dict(data)\n",
    "dict_data"
   ]
  },
  {
   "cell_type": "code",
   "execution_count": 3,
   "id": "f9ae57fd",
   "metadata": {},
   "outputs": [
    {
     "data": {
      "text/plain": [
       "{'red': '#FF0000', 'green': '#008000', 'blue': '#0000FF'}"
      ]
     },
     "execution_count": 3,
     "metadata": {},
     "output_type": "execute_result"
    }
   ],
   "source": [
    "# Write a Python program to map two lists into a dictionary (B+).\n",
    "# Input: keys = ['red', 'green', 'blue']\tvalues = ['#FF0000','#008000', '#0000FF']\n",
    "# Expected Output: {'red': '#FF0000', 'green': '#008000', 'blue': '#0000FF'}\n",
    "color = ['red', 'green', 'blue']\n",
    "rgb_value = ['#FF0000','#008000', '#0000FF']\n",
    "\n",
    "result = {color[i]:rgb_value[i] for i in range(len(color))}\n",
    "result\n"
   ]
  },
  {
   "cell_type": "code",
   "execution_count": 9,
   "id": "58eada66",
   "metadata": {},
   "outputs": [
    {
     "name": "stdout",
     "output_type": "stream",
     "text": [
      "{'S009', 'S007', 'S005', 'S002', 'S001'}\n"
     ]
    }
   ],
   "source": [
    "# Write a Python program to extract values as unique in a dictionary (B+).   \n",
    "# Sample Data : [{\"V\":\"S001\"}, {\"V\": \"S002\"}, {\"VI\": \"S001\"}, {\"VI\": \"S005\"}, {\"VII\":\"S005\"}, {\"V\":\"S009\"},{\"VIII\":\"S007\"}]\n",
    "# Expected Output : Unique Values: {'S005', 'S002', 'S007', 'S001', 'S009'}\n",
    "\n",
    "sample_data = [{\"V\":\"S001\"}, {\"V\": \"S002\"}, {\"VI\": \"S001\"}, {\"VI\": \"S005\"}, {\"VII\":\"S005\"}, {\"V\":\"S009\"},{\"VIII\":\"S007\"}]\n",
    "val=[]\n",
    "for data in sample_data:\n",
    "  for key,value in data.items():\n",
    "    val.append(value)\n",
    "print(set(val))  "
   ]
  },
  {
   "cell_type": "code",
   "execution_count": null,
   "id": "7cf370b1",
   "metadata": {},
   "outputs": [
    {
     "data": {
      "text/plain": [
       "{'S001', 'S002', 'S005', 'S007', 'S009'}"
      ]
     },
     "execution_count": 12,
     "metadata": {},
     "output_type": "execute_result"
    }
   ],
   "source": [
    "# method 2 of getting unique values from the list of dictionaries\n",
    "sample_data = [{\"V\":\"S001\"}, {\"V\": \"S002\"}, {\"VI\": \"S001\"}, {\"VI\": \"S005\"}, {\"VII\":\"S005\"}, {\"V\":\"S009\"},{\"VIII\":\"S007\"}]\n",
    "unique_values = set(value for data in sample_data for value in data.values())\n",
    "unique_values"
   ]
  },
  {
   "cell_type": "code",
   "execution_count": null,
   "id": "24012511",
   "metadata": {},
   "outputs": [
    {
     "data": {
      "text/plain": [
       "{1: 10, 2: 20, 3: 30, 4: 40, 5: 50, 6: 60}"
      ]
     },
     "execution_count": 34,
     "metadata": {},
     "output_type": "execute_result"
    }
   ],
   "source": [
    "# Write a Python script to concatenate following dictionaries to create a new one (B).\n",
    "dic1={1:10, 2:20}\n",
    "dic2={3:30, 4:40}\n",
    "dic3={5:50,6:60}\n",
    "#Expected Output : {1: 10, 2: 20, 3: 30, 4: 40, 5: 50, 6: 60}\n",
    "\n",
    "dic4 = {}\n",
    "for d in dic1,dic2,dic3:\n",
    "  dic4.update(d)\n",
    "\n",
    "dic4  "
   ]
  }
 ],
 "metadata": {
  "kernelspec": {
   "display_name": "Python 3",
   "language": "python",
   "name": "python3"
  },
  "language_info": {
   "codemirror_mode": {
    "name": "ipython",
    "version": 3
   },
   "file_extension": ".py",
   "mimetype": "text/x-python",
   "name": "python",
   "nbconvert_exporter": "python",
   "pygments_lexer": "ipython3",
   "version": "3.12.3"
  }
 },
 "nbformat": 4,
 "nbformat_minor": 5
}
