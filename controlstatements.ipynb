{
 "cells": [
  {
   "cell_type": "code",
   "execution_count": null,
   "id": "17517221",
   "metadata": {},
   "outputs": [],
   "source": [
    "# write a program to accept a single character and check whether the character is special character or not\n",
    "\n",
    "char = input(\"Enter a single character\\n\")\n",
    "\n",
    "if (char >= 'a' and char <= 'z') or (char >= 'A' and char <= 'Z') or (char >= '0' and char <= '9'):\n",
    "  print(f\"{char} is not a special character.\")\n",
    "else:\n",
    "  print(f\"{char} is a special character.\")    "
   ]
  },
  {
   "cell_type": "code",
   "execution_count": null,
   "id": "70e7fb6c",
   "metadata": {},
   "outputs": [],
   "source": [
    "# write a program to accept a string and check whether is it palindrome or not\n",
    "\n",
    "string = input(\"Enter a string \\n\")\n",
    "\n",
    "if string == string[::-1]:\n",
    "  print(f\"Given string '{string}' is a palindrome!\")\n",
    "else:\n",
    "  print(f\"Given string {string} is not a palindrome!\")    "
   ]
  },
  {
   "cell_type": "code",
   "execution_count": null,
   "id": "5d078255",
   "metadata": {},
   "outputs": [],
   "source": [
    "# write a program to accept 2 strings and check the given 2 strings are equal or not.\n",
    "string1 = input(\"Enter the first string \\n\")\n",
    "string2 = input(\"Enter the second string \\n\")\n",
    "\n",
    "\n",
    "if string1 == string2:\n",
    "  print(f\"First string '{string1}' and Second string '{string2}' are equal.\")\n",
    "else:\n",
    "  print(f\"First string '{string1}' and Second string '{string2}' are NOT equal.\")    "
   ]
  },
  {
   "cell_type": "code",
   "execution_count": null,
   "id": "4ca69a09",
   "metadata": {},
   "outputs": [],
   "source": [
    "# write a program to accept 2 strings and display the greatest string\n",
    "\n",
    "string1 = input(\"Enter the first string \\n\")\n",
    "string2 = input(\"Enter the second string \\n\")\n",
    "\n",
    "\n",
    "if string1 > string2:\n",
    "  print(f\"First string '{string1}' is greater than the Second string '{string2}'.\")\n",
    "elif string1 == string2: \n",
    "  print(f\"Both the first string '{string1}' and second string '{string2}' are same.\") \n",
    "else:\n",
    "  print(f\"Second string '{string2}' is greater than the First string '{string1}'.\")"
   ]
  },
  {
   "cell_type": "code",
   "execution_count": null,
   "id": "9d77e5f8",
   "metadata": {},
   "outputs": [],
   "source": [
    "# write a program to accept 2 strings and display the longest string\n",
    "\n",
    "string1 = input(\"Enter the first string \\n\")\n",
    "string2 = input(\"Enter the second string \\n\")\n",
    "\n",
    "\n",
    "if len(string1) > len(string2):\n",
    "  print(f\"First string '{string1}' is longer than the Second string '{string2}'.\")\n",
    "elif len(string1) == len(string2):\n",
    "  print(f\"Both First string '{string1}' and the Second string '{string2}' are same.\")  \n",
    "else:  \n",
    "  print(f\"Second string '{string2}' is longer than the First string '{string1}'.\")"
   ]
  },
  {
   "cell_type": "code",
   "execution_count": null,
   "id": "95eec7af",
   "metadata": {},
   "outputs": [],
   "source": [
    "# write a program to accept a string and reverse the string\n",
    "string = input(\"Enter a string to reverse \\n\")\n",
    "\n",
    "new_string = string[::-1]\n",
    "\n",
    "print(f\"The reverse of '{string}' is '{new_string}'\")"
   ]
  },
  {
   "cell_type": "code",
   "execution_count": null,
   "id": "25c9c5df",
   "metadata": {},
   "outputs": [],
   "source": [
    "# write a program to accept a string and display the string by ignoring the vowels from it\n",
    "\n",
    "string = input(\"Enter a string to ignore the vowels and display the result \\n\")\n",
    "new_string = ''\n",
    "\n",
    "for ch in string:\n",
    "  if ch in ['a','e','i','o','u']:\n",
    "    pass\n",
    "  else:\n",
    "    new_string+=ch\n",
    "\n",
    "print(f\"New string without the vowels is {new_string}\")"
   ]
  },
  {
   "cell_type": "code",
   "execution_count": null,
   "id": "e569f25f",
   "metadata": {},
   "outputs": [],
   "source": [
    "# write a program to print the numbers n to 1\n",
    "\n",
    "num = int(input(\"Enter a number\\n\"))\n",
    "\n",
    "for n in range(num,0,-1):\n",
    "  print(n)"
   ]
  },
  {
   "cell_type": "code",
   "execution_count": null,
   "id": "3157fc26",
   "metadata": {},
   "outputs": [],
   "source": [
    "# write a program to print 1 to n with comma separated values and pring their sum \n",
    "\n",
    "num = int(input(\"Enter a number\\n\"))\n",
    "total_sum = 0\n",
    "\n",
    "for n in range(1,num+1):\n",
    "  if n < num:\n",
    "    print(n, end=\", \")\n",
    "  else:\n",
    "    print(n, end=\"\") \n",
    "  total_sum+=n \n",
    "\n",
    "print(\"\\nSum:\", total_sum)"
   ]
  },
  {
   "cell_type": "code",
   "execution_count": null,
   "id": "e85d4772",
   "metadata": {},
   "outputs": [],
   "source": [
    "# write a program to print even numbers from1 to n with comma separator and the sum also\n",
    "\n",
    "num = int(input(\"Enter a number\\n\"))\n",
    "total_sum = 0\n",
    "\n",
    "for n in range(1,num+1):\n",
    "  if n % 2 == 0:\n",
    "    if n < num:\n",
    "      print(n, end=\", \")\n",
    "    else:\n",
    "      print(n,end=\"\")\n",
    "    total_sum+=n  \n",
    "  else:\n",
    "    pass\n",
    "print(\"\\nSum:\",total_sum) "
   ]
  },
  {
   "cell_type": "code",
   "execution_count": null,
   "id": "22fb379c",
   "metadata": {},
   "outputs": [],
   "source": [
    "# write a program to print the numbers from 1 to n which are multiples of 3 and 5\n",
    "\n",
    "num = int(input(\"Enter a number\\n\"))\n",
    "\n",
    "for n in range(1,num+1):\n",
    "  if n%3==0 and n%5 ==0:\n",
    "    print(f\"The number {n} is divisible by both 3 and 5.\")  \n",
    "  else:\n",
    "    print(f\"The number {n} is NOT divisible by both 3 and 5.\")   "
   ]
  },
  {
   "cell_type": "code",
   "execution_count": null,
   "id": "3535b60a",
   "metadata": {},
   "outputs": [],
   "source": [
    "# write a program to print even numbers between 100 and 200\n",
    "\n",
    "num = 100\n",
    "\n",
    "while num <201:\n",
    "  if num%2 == 0:\n",
    "    print(f\"{num} is even number.\")   \n",
    "  else:\n",
    "    pass\n",
    "  num+=1 "
   ]
  },
  {
   "cell_type": "code",
   "execution_count": null,
   "id": "28d80dae",
   "metadata": {},
   "outputs": [],
   "source": [
    "# write a program to print odd numbers between 200 and 400 in descending\n",
    "num = 400\n",
    "while num >= 200:  \n",
    "  if num % 2 != 0:\n",
    "    print(f\"{num} is odd number.\")\n",
    "  num -= 1"
   ]
  },
  {
   "cell_type": "code",
   "execution_count": null,
   "id": "5414ad50",
   "metadata": {},
   "outputs": [],
   "source": [
    "# write a program to display the n table\n",
    "num = int(input(\"Enter a number to print the first 10 numtiples\\n\"))\n",
    "n=1\n",
    "while n<=10:\n",
    "  print(f\"{num} x {n} = {n*num}\")\n",
    "  n+=1"
   ]
  },
  {
   "cell_type": "code",
   "execution_count": null,
   "id": "65d6dc18",
   "metadata": {},
   "outputs": [],
   "source": [
    "# program to check if the note is valid or not\n",
    "rupees = [100,200,500,1000,2000,100,200,500,1000,2000]\n",
    "total = 0\n",
    "valid_rupees=[]\n",
    "\n",
    "for amount in rupees:\n",
    "  if amount!=1000 and amount!=2000:\n",
    "    total+=amount\n",
    "    valid_rupees.append(amount)\n",
    "  else:\n",
    "    print(f\"{amount} rupee note is invalid.\") \n",
    "    break # as soon it identifes the invalid note it will break the transaction\n",
    "else:\n",
    "  print(f\"All the notes has been deposited successfully.\")     \n",
    "  print(f\"Valid notes deposited in the account are {valid_rupees}.\")     \n",
    "  print(f\"Total amount deposited = {total}.\")     "
   ]
  },
  {
   "cell_type": "markdown",
   "id": "0b82fcfd",
   "metadata": {},
   "source": [
    "- April 7th\n",
    "- Jumping statements\n",
    "- Nested loop"
   ]
  },
  {
   "cell_type": "code",
   "execution_count": 1,
   "id": "3ed07aa7",
   "metadata": {},
   "outputs": [
    {
     "name": "stdout",
     "output_type": "stream",
     "text": [
      "2 5 6 7 3 8 "
     ]
    }
   ],
   "source": [
    "# write a program to display only +ve values from the list by applying continue\n",
    "nums = [2,5,-4,6,7,-10,3,8]\n",
    "\n",
    "for num in nums:\n",
    "  if num < 0:\n",
    "    continue\n",
    "  else:\n",
    "    print(num,end=\" \")"
   ]
  },
  {
   "cell_type": "code",
   "execution_count": 15,
   "id": "17873a67",
   "metadata": {},
   "outputs": [
    {
     "name": "stdout",
     "output_type": "stream",
     "text": [
      "['1', '2', '3', '4', '5', '6', '7', '8', '9', '10']\n",
      "30\n"
     ]
    }
   ],
   "source": [
    "# write a program to read 10 integer values from keyboard and sum only even numbers by applying continue\n",
    "nums = input(\"Enter 10 integer values separated by comma\\n\").split(',')\n",
    "print(nums)\n",
    "total=0\n",
    "\n",
    "for num in nums:\n",
    "  num = int(num)\n",
    "  if num%2 != 0:\n",
    "    continue\n",
    "  else:\n",
    "    total+=num\n",
    "print(total)    "
   ]
  },
  {
   "cell_type": "code",
   "execution_count": 14,
   "id": "119924de",
   "metadata": {},
   "outputs": [
    {
     "name": "stdout",
     "output_type": "stream",
     "text": [
      "['1', '2', '3', '4', '5', '6', '7', '8', '9', '10']\n",
      "\n",
      "Sum of even numbers: 30\n"
     ]
    }
   ],
   "source": [
    "# write a program to read 10 integer values from keyboard and sum only even numbers by applying continue using while loop\n",
    "nums = input(\"Enter 10 integer values separated by comma\\n\").split(',')\n",
    "print(nums)\n",
    "if len(nums) != 10:\n",
    "  print(\"Please enter exactly 10 integer values.\")\n",
    "else:\n",
    "  total = 0\n",
    "  index = 0\n",
    "  \n",
    "  while index < len(nums):\n",
    "    num = int(nums[index]) \n",
    "    \n",
    "    if num%2!=0:      \n",
    "      index+=1\n",
    "      continue\n",
    "    total+=num\n",
    "    index+=1  \n",
    "    \n",
    "  print(\"\\nSum of even numbers:\",total) "
   ]
  }
 ],
 "metadata": {
  "kernelspec": {
   "display_name": "Python 3",
   "language": "python",
   "name": "python3"
  },
  "language_info": {
   "codemirror_mode": {
    "name": "ipython",
    "version": 3
   },
   "file_extension": ".py",
   "mimetype": "text/x-python",
   "name": "python",
   "nbconvert_exporter": "python",
   "pygments_lexer": "ipython3",
   "version": "3.12.3"
  }
 },
 "nbformat": 4,
 "nbformat_minor": 5
}
