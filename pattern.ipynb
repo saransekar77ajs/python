{
 "cells": [
  {
   "cell_type": "code",
   "execution_count": 2,
   "id": "d5bbe468",
   "metadata": {},
   "outputs": [
    {
     "name": "stdout",
     "output_type": "stream",
     "text": [
      "     1 \n",
      "    2 2 \n",
      "   3 3 3 \n",
      "  4 4 4 4 \n",
      " 5 5 5 5 5 \n",
      "6 6 6 6 6 6 \n"
     ]
    }
   ],
   "source": [
    "# write a program to display a triangle pattern with numbers\n",
    "\n",
    "for row in range(1,7):\n",
    "  for space in range(6,row,-1):\n",
    "    print(end=\" \")\n",
    "  for col in range(row):\n",
    "    print(row, end=\" \")\n",
    "  print()"
   ]
  },
  {
   "cell_type": "code",
   "execution_count": null,
   "id": "e34a4a97",
   "metadata": {},
   "outputs": [
    {
     "name": "stdout",
     "output_type": "stream",
     "text": [
      "                * \n",
      "              * * \n",
      "            * * * \n",
      "          * * * * \n",
      "        * * * * * \n",
      "      * * * * * * \n",
      "    * * * * * * * \n",
      "  * * * * * * * * \n",
      "* * * * * * * * * \n"
     ]
    }
   ],
   "source": [
    "# write a program to display a right triangle pattern with *\n",
    "for row in range(1, 10):  # Loop for the number of rows you want (3 rows in your example)\n",
    "    for space in range(9, row, -1):  # Print leading spaces for alignment\n",
    "        print(\" \", end=\" \")  # Print a space with additional space\n",
    "    for col in range(row):  # Print the stars in each row\n",
    "        print(\"*\", end=\" \")  # Print a star followed by a space\n",
    "    print()  # Move to the next line after each row\n"
   ]
  },
  {
   "cell_type": "markdown",
   "id": "d173ee6c",
   "metadata": {},
   "source": [
    "# Patterns Module 1"
   ]
  },
  {
   "cell_type": "code",
   "execution_count": null,
   "id": "93ce3c7b",
   "metadata": {},
   "outputs": [
    {
     "name": "stdout",
     "output_type": "stream",
     "text": [
      "* * * \n",
      "* * * \n",
      "* * * \n"
     ]
    }
   ],
   "source": [
    "#pattern 1\n",
    "for i in range (3):\n",
    "  for j in range(3):\n",
    "    print(\"*\", end=\" \")\n",
    "  print()  "
   ]
  },
  {
   "cell_type": "code",
   "execution_count": null,
   "id": "d9d6e1b7",
   "metadata": {},
   "outputs": [
    {
     "name": "stdout",
     "output_type": "stream",
     "text": [
      "1 2 3 4 \n",
      "1 2 3 4 \n",
      "1 2 3 4 \n",
      "1 2 3 4 \n"
     ]
    }
   ],
   "source": [
    "#pattern 2\n",
    "for i in range (1,5):\n",
    "  for j in range(1,5):\n",
    "    print(j, end=\" \")\n",
    "  print()  "
   ]
  },
  {
   "cell_type": "code",
   "execution_count": 34,
   "id": "9581e174",
   "metadata": {},
   "outputs": [
    {
     "name": "stdout",
     "output_type": "stream",
     "text": [
      "1 1 1 \n",
      "2 2 2 \n",
      "3 3 3 \n",
      "4 4 4 \n"
     ]
    }
   ],
   "source": [
    "# pattern 3\n",
    "for i in range (1,5):\n",
    "  for j in range(1,4):\n",
    "    print(i, end=\" \")\n",
    "  print() "
   ]
  },
  {
   "cell_type": "code",
   "execution_count": 35,
   "id": "eeebce87",
   "metadata": {},
   "outputs": [
    {
     "name": "stdout",
     "output_type": "stream",
     "text": [
      "A A \n",
      "B B \n",
      "C C \n"
     ]
    }
   ],
   "source": [
    "# pattern 4\n",
    "for i in range (1,4):\n",
    "  for j in range(1,3):\n",
    "    print(chr(64+i), end=\" \")\n",
    "  print() "
   ]
  },
  {
   "cell_type": "code",
   "execution_count": null,
   "id": "332deace",
   "metadata": {},
   "outputs": [
    {
     "name": "stdout",
     "output_type": "stream",
     "text": [
      "a b c d \n",
      "a b c d \n",
      "a b c d \n",
      "a b c d \n"
     ]
    }
   ],
   "source": [
    "# pattern 5\n",
    "for i in range (1,5):\n",
    "  for j in range(1,5):\n",
    "    print(chr(96+j), end=\" \")\n",
    "  print()  \n"
   ]
  },
  {
   "cell_type": "code",
   "execution_count": null,
   "id": "53594f18",
   "metadata": {},
   "outputs": [
    {
     "name": "stdout",
     "output_type": "stream",
     "text": [
      "A B C D \n",
      "A B C D \n",
      "A B C D \n",
      "A B C D \n"
     ]
    }
   ],
   "source": [
    "# pattern 6\n",
    "for i in range (1,5):\n",
    "  for j in range(1,5):\n",
    "    print(chr(64+j), end=\" \")\n",
    "  print() "
   ]
  },
  {
   "cell_type": "code",
   "execution_count": 47,
   "id": "76e44d1a",
   "metadata": {},
   "outputs": [
    {
     "name": "stdout",
     "output_type": "stream",
     "text": [
      "a a a \n",
      "b b b \n",
      "c c c \n",
      "d d d \n"
     ]
    }
   ],
   "source": [
    "# pattern 7\n",
    "for i in range (1,5):\n",
    "  for j in range(1,4):\n",
    "    print(chr(96+i), end=\" \")\n",
    "  print() "
   ]
  },
  {
   "cell_type": "code",
   "execution_count": 61,
   "id": "a1f2179b",
   "metadata": {},
   "outputs": [
    {
     "name": "stdout",
     "output_type": "stream",
     "text": [
      "A C E \n",
      "A C E \n",
      "A C E \n",
      "A C E \n"
     ]
    }
   ],
   "source": [
    "# pattern 8\n",
    "for i in range (1,5):\n",
    "  for j in [1,3,5]:\n",
    "    print(chr(64+j), end=\" \")\n",
    "  print() "
   ]
  },
  {
   "cell_type": "markdown",
   "id": "9769274c",
   "metadata": {},
   "source": [
    "# Model 2"
   ]
  },
  {
   "cell_type": "code",
   "execution_count": 3,
   "id": "b797cd81",
   "metadata": {},
   "outputs": [
    {
     "name": "stdout",
     "output_type": "stream",
     "text": [
      "* \n",
      "* * \n",
      "* * * \n",
      "* * * * \n",
      "* * * * * \n"
     ]
    }
   ],
   "source": [
    "# pattern 1\n",
    "\n",
    "for i in range(1,6):  \n",
    "  for j in range(i):\n",
    "    print(\"*\", end=\" \")\n",
    "  print()  "
   ]
  },
  {
   "cell_type": "code",
   "execution_count": 67,
   "id": "a6c34356",
   "metadata": {},
   "outputs": [
    {
     "name": "stdout",
     "output_type": "stream",
     "text": [
      "1 \n",
      "2 2 \n",
      "3 3 3 \n",
      "4 4 4 4 \n",
      "5 5 5 5 5 \n"
     ]
    }
   ],
   "source": [
    "# pattern 2\n",
    "for i in range(1,6):  \n",
    "  for j in range(i):\n",
    "    print(i, end=\" \")\n",
    "  print()  "
   ]
  },
  {
   "cell_type": "code",
   "execution_count": 73,
   "id": "e7b02b7a",
   "metadata": {},
   "outputs": [
    {
     "name": "stdout",
     "output_type": "stream",
     "text": [
      "1 \n",
      "1 2 \n",
      "1 2 3 \n",
      "1 2 3 4 \n",
      "1 2 3 4 5 \n"
     ]
    }
   ],
   "source": [
    "# pattern 3\n",
    "for i in range(1,6):  \n",
    "  for j in range(i):\n",
    "    print(j+1, end=\" \")\n",
    "  print() "
   ]
  },
  {
   "cell_type": "code",
   "execution_count": 75,
   "id": "0f42f333",
   "metadata": {},
   "outputs": [
    {
     "name": "stdout",
     "output_type": "stream",
     "text": [
      "A \n",
      "A B \n",
      "A B C \n",
      "A B C D \n",
      "A B C D E \n"
     ]
    }
   ],
   "source": [
    "# pattern 4\n",
    "for i in range(1,6):  \n",
    "  for j in range(i):\n",
    "    print(chr(65+j), end=\" \")\n",
    "  print() "
   ]
  },
  {
   "cell_type": "code",
   "execution_count": 78,
   "id": "6d3572a1",
   "metadata": {},
   "outputs": [
    {
     "name": "stdout",
     "output_type": "stream",
     "text": [
      "A \n",
      "B B \n",
      "C C C \n",
      "D D D D \n",
      "E E E E E \n"
     ]
    }
   ],
   "source": [
    "# pattern 5\n",
    "for i in range(1,6):  \n",
    "  for j in range(i):\n",
    "    print(chr(64+i), end=\" \")\n",
    "  print()"
   ]
  },
  {
   "cell_type": "code",
   "execution_count": 83,
   "id": "45435620",
   "metadata": {},
   "outputs": [
    {
     "name": "stdout",
     "output_type": "stream",
     "text": [
      "a \n",
      "a b \n",
      "a b c \n",
      "a b c d \n",
      "a b c d e \n",
      "a b c d e f \n"
     ]
    }
   ],
   "source": [
    "# pattern 6\n",
    "for i in range(1,7):  \n",
    "  for j in range(i):\n",
    "    print(chr(97+j), end=\" \")\n",
    "  print()\n"
   ]
  },
  {
   "cell_type": "code",
   "execution_count": 92,
   "id": "0ffd2406",
   "metadata": {},
   "outputs": [
    {
     "name": "stdout",
     "output_type": "stream",
     "text": [
      "5 \n",
      "5 4 \n",
      "5 4 3 \n",
      "5 4 3 2 \n",
      "5 4 3 2 1 \n"
     ]
    }
   ],
   "source": [
    "# pattern 7\n",
    "for i in range(1,6):  \n",
    "  for j in range(0,i):\n",
    "    print(5-j, end=\" \")\n",
    "  print() \n"
   ]
  },
  {
   "cell_type": "code",
   "execution_count": 97,
   "id": "62ce5e3d",
   "metadata": {},
   "outputs": [
    {
     "name": "stdout",
     "output_type": "stream",
     "text": [
      "5 \n",
      "4 4 \n",
      "3 3 3 \n",
      "2 2 2 2 \n",
      "1 1 1 1 1 \n"
     ]
    }
   ],
   "source": [
    "# pattern 8\n",
    "for i in range(1,6):  \n",
    "  for j in range(0,i):\n",
    "    print(6-i, end=\" \")\n",
    "  print() \n"
   ]
  },
  {
   "cell_type": "code",
   "execution_count": 99,
   "id": "5ac82219",
   "metadata": {},
   "outputs": [
    {
     "name": "stdout",
     "output_type": "stream",
     "text": [
      "E \n",
      "D D \n",
      "C C C \n",
      "B B B B \n",
      "A A A A A \n"
     ]
    }
   ],
   "source": [
    "# pattern 9\n",
    "for i in range(1,6):  \n",
    "  for j in range(0,i):\n",
    "    print(chr(70-i), end=\" \")\n",
    "  print()"
   ]
  },
  {
   "cell_type": "code",
   "execution_count": null,
   "id": "834b442e",
   "metadata": {},
   "outputs": [
    {
     "name": "stdout",
     "output_type": "stream",
     "text": [
      "e \n",
      "e d \n",
      "e d c \n",
      "e d c b \n",
      "e d c b a \n"
     ]
    }
   ],
   "source": [
    "# pattern 10\n",
    "for i in range(1,6):  \n",
    "  for j in range(0,i):\n",
    "    print(chr(101-j), end=\" \")\n",
    "  print()  \n",
    " "
   ]
  },
  {
   "cell_type": "markdown",
   "id": "1e0e940f",
   "metadata": {},
   "source": [
    "# Model 3"
   ]
  },
  {
   "cell_type": "code",
   "execution_count": null,
   "id": "1370f894",
   "metadata": {},
   "outputs": [
    {
     "name": "stdout",
     "output_type": "stream",
     "text": [
      "     * \n",
      "    * * \n",
      "   * * * \n",
      "  * * * * \n",
      " * * * * * \n",
      "* * * * * * \n"
     ]
    }
   ],
   "source": [
    "# pattern 1\n",
    "for row in range(1,7):\n",
    "  for space in range(6,row,-1):\n",
    "    print(end=\" \")\n",
    "  for col in range(row):\n",
    "    print(\"*\", end=\" \")\n",
    "  print() "
   ]
  },
  {
   "cell_type": "code",
   "execution_count": 112,
   "id": "2fcb2667",
   "metadata": {},
   "outputs": [
    {
     "name": "stdout",
     "output_type": "stream",
     "text": [
      "     1 \n",
      "    2 2 \n",
      "   3 3 3 \n",
      "  4 4 4 4 \n",
      " 5 5 5 5 5 \n",
      "6 6 6 6 6 6 \n"
     ]
    }
   ],
   "source": [
    "# pattern 2\n",
    "for row in range(1,7):\n",
    "  for space in range(6,row,-1):\n",
    "    print(end=\" \")\n",
    "  for col in range(row):\n",
    "    print(row, end=\" \")\n",
    "  print()"
   ]
  },
  {
   "cell_type": "code",
   "execution_count": 120,
   "id": "3bae4529",
   "metadata": {},
   "outputs": [
    {
     "name": "stdout",
     "output_type": "stream",
     "text": [
      "     1 \n",
      "    1 2 \n",
      "   1 2 3 \n",
      "  1 2 3 4 \n",
      " 1 2 3 4 5 \n"
     ]
    }
   ],
   "source": [
    "# pattern 3\n",
    "for row in range(1,6):\n",
    "  for space in range(6,row,-1):\n",
    "    print(end=\" \")\n",
    "  for col in range(1,row+1):\n",
    "    print(col, end=\" \")\n",
    "  print()"
   ]
  },
  {
   "cell_type": "code",
   "execution_count": 124,
   "id": "25bfae12",
   "metadata": {},
   "outputs": [
    {
     "name": "stdout",
     "output_type": "stream",
     "text": [
      "      A \n",
      "     A B \n",
      "    A B C \n",
      "   A B C D \n",
      "  A B C D E \n",
      " A B C D E F \n",
      "A B C D E F G \n"
     ]
    }
   ],
   "source": [
    "# pattern 4\n",
    "for row in range(1,8):\n",
    "  for space in range(7,row,-1):\n",
    "    print(end=\" \")\n",
    "  for col in range(1,row+1):\n",
    "    print(chr(64+col), end=\" \")\n",
    "  print()"
   ]
  },
  {
   "cell_type": "code",
   "execution_count": 126,
   "id": "905f42df",
   "metadata": {},
   "outputs": [
    {
     "name": "stdout",
     "output_type": "stream",
     "text": [
      "     5 \n",
      "    4 4 \n",
      "   3 3 3 \n",
      "  2 2 2 2 \n",
      " 1 1 1 1 1 \n"
     ]
    }
   ],
   "source": [
    "# pattern 5\n",
    "for row in range(1,6):\n",
    "  for space in range(6,row,-1):\n",
    "    print(end=\" \")\n",
    "  for col in range(1,row+1):\n",
    "    print(6-row, end=\" \")\n",
    "  print()"
   ]
  },
  {
   "cell_type": "code",
   "execution_count": null,
   "id": "826f4e4d",
   "metadata": {},
   "outputs": [
    {
     "name": "stdout",
     "output_type": "stream",
     "text": [
      "     5 \n",
      "    5 4 \n",
      "   5 4 3 \n",
      "  5 4 3 2 \n",
      " 5 4 3 2 1 \n"
     ]
    }
   ],
   "source": [
    "# pattern 6\n",
    "for row in range(1,6):\n",
    "  for space in range(6,row,-1):\n",
    "    print(end=\" \")\n",
    "  for col in range(1,row+1):\n",
    "    print(6-col, end=\" \")\n",
    "  print()"
   ]
  },
  {
   "cell_type": "code",
   "execution_count": 131,
   "id": "873d1b6f",
   "metadata": {},
   "outputs": [
    {
     "name": "stdout",
     "output_type": "stream",
     "text": [
      "    E \n",
      "   D D \n",
      "  C C C \n",
      " B B B B \n",
      "A A A A A \n"
     ]
    }
   ],
   "source": [
    "# pattern 7\n",
    "for row in range(1,6):\n",
    "  for space in range(5,row,-1):\n",
    "    print(end=\" \")\n",
    "  for col in range(1,row+1):\n",
    "    print(chr(70-row), end=\" \")\n",
    "  print()"
   ]
  },
  {
   "cell_type": "code",
   "execution_count": 133,
   "id": "39562987",
   "metadata": {},
   "outputs": [
    {
     "name": "stdout",
     "output_type": "stream",
     "text": [
      "    e \n",
      "   d d \n",
      "  c c c \n",
      " b b b b \n",
      "a a a a a \n"
     ]
    }
   ],
   "source": [
    "# pattern 8\n",
    "for row in range(1,6):\n",
    "  for space in range(5,row,-1):\n",
    "    print(end=\" \")\n",
    "  for col in range(1,row+1):\n",
    "    print(chr(102-row), end=\" \")\n",
    "  print()"
   ]
  },
  {
   "cell_type": "code",
   "execution_count": 144,
   "id": "92998298",
   "metadata": {},
   "outputs": [
    {
     "name": "stdout",
     "output_type": "stream",
     "text": [
      "    1 \n",
      "   2 3 \n",
      "  4 5 6 \n",
      " 7 8 9 10 \n"
     ]
    }
   ],
   "source": [
    "# pattern 9\n",
    "current_number = 1\n",
    "for row in range(1,5):\n",
    "  for space in range(5,row,-1):\n",
    "    print(end=\" \")\n",
    "  for col in range(row):\n",
    "    print(current_number, end=\" \")\n",
    "    current_number +=1\n",
    "  print()"
   ]
  },
  {
   "cell_type": "code",
   "execution_count": 151,
   "id": "cc1452a2",
   "metadata": {},
   "outputs": [
    {
     "name": "stdout",
     "output_type": "stream",
     "text": [
      "      A \n",
      "     B C \n",
      "    D E F \n",
      "   G H I J \n",
      "  K L M N O \n",
      " P Q R S T U \n"
     ]
    }
   ],
   "source": [
    "# pattern 10\n",
    "current_number = 65\n",
    "for row in range(1,7):\n",
    "  for space in range(7,row,-1):\n",
    "    print(end=\" \")\n",
    "  for col in range(row):\n",
    "    print(chr(current_number), end=\" \")\n",
    "    current_number +=1\n",
    "  print()"
   ]
  },
  {
   "cell_type": "markdown",
   "id": "a97d9792",
   "metadata": {},
   "source": [
    "# Model 4"
   ]
  },
  {
   "cell_type": "code",
   "execution_count": null,
   "id": "70e4fc0b",
   "metadata": {},
   "outputs": [
    {
     "name": "stdout",
     "output_type": "stream",
     "text": [
      "        * \n",
      "      * * \n",
      "    * * * \n",
      "  * * * * \n",
      "* * * * * \n"
     ]
    }
   ],
   "source": [
    "# pattern 1\n",
    "for row in range(1, 6):  \n",
    "    for space in range(5, row, -1):  \n",
    "        print(\" \", end=\" \")  \n",
    "    for col in range(row):  \n",
    "        print(\"*\", end=\" \")  \n",
    "    print()  "
   ]
  },
  {
   "cell_type": "code",
   "execution_count": null,
   "id": "8673afb4",
   "metadata": {},
   "outputs": [
    {
     "name": "stdout",
     "output_type": "stream",
     "text": [
      "          1 \n",
      "        2 2 \n",
      "      3 3 3 \n",
      "    4 4 4 4 \n",
      "  5 5 5 5 5 \n",
      "6 6 6 6 6 6 \n"
     ]
    }
   ],
   "source": [
    "# pattern 2\n",
    "for row in range(1, 7):  \n",
    "    for space in range(6, row, -1): \n",
    "        print(\" \", end=\" \")  \n",
    "    for col in range(row):  \n",
    "        print(row, end=\" \")  \n",
    "    print()  "
   ]
  },
  {
   "cell_type": "code",
   "execution_count": null,
   "id": "97bcdb2e",
   "metadata": {},
   "outputs": [
    {
     "name": "stdout",
     "output_type": "stream",
     "text": [
      "          1 \n",
      "        1 2 \n",
      "      1 2 3 \n",
      "    1 2 3 4 \n",
      "  1 2 3 4 5 \n",
      "1 2 3 4 5 6 \n"
     ]
    }
   ],
   "source": [
    "# pattern 3\n",
    "for row in range(1, 7):  \n",
    "    for space in range(6, row, -1):  \n",
    "        print(\" \", end=\" \")  \n",
    "    for col in range(1,row+1):  \n",
    "        print(col, end=\" \")  \n",
    "    print()  "
   ]
  },
  {
   "cell_type": "code",
   "execution_count": 167,
   "id": "cc82b86c",
   "metadata": {},
   "outputs": [
    {
     "name": "stdout",
     "output_type": "stream",
     "text": [
      "          A \n",
      "        A B \n",
      "      A B C \n",
      "    A B C D \n",
      "  A B C D E \n",
      "A B C D E F \n"
     ]
    }
   ],
   "source": [
    "# pattern 4\n",
    "for row in range(1, 7):  \n",
    "    for space in range(6, row, -1):  \n",
    "        print(\" \", end=\" \")  \n",
    "    for col in range(1,row+1):  \n",
    "        print(chr(64+col), end=\" \")  \n",
    "    print() "
   ]
  },
  {
   "cell_type": "code",
   "execution_count": 172,
   "id": "e6eb2a01",
   "metadata": {},
   "outputs": [
    {
     "name": "stdout",
     "output_type": "stream",
     "text": [
      "        5 \n",
      "      4 4 \n",
      "    3 3 3 \n",
      "  2 2 2 2 \n",
      "1 1 1 1 1 \n"
     ]
    }
   ],
   "source": [
    "# pattern 5\n",
    "for row in range(1, 6):  \n",
    "    for space in range(5, row, -1):  \n",
    "        print(\" \", end=\" \")  \n",
    "    for col in range(1,row+1):  \n",
    "        print(6-row, end=\" \")  \n",
    "    print() "
   ]
  },
  {
   "cell_type": "markdown",
   "id": "6e1bf103",
   "metadata": {},
   "source": [
    "# Model 5"
   ]
  },
  {
   "cell_type": "code",
   "execution_count": 180,
   "id": "e75328e3",
   "metadata": {},
   "outputs": [
    {
     "name": "stdout",
     "output_type": "stream",
     "text": [
      "* * * * * \n",
      "* * * * \n",
      "* * * \n",
      "* * \n",
      "* \n"
     ]
    }
   ],
   "source": [
    "# pattern 1\n",
    "for row in range(1, 6):\n",
    "    for col in range(6,row,-1):  \n",
    "      print(\"*\", end=\" \")  \n",
    "    print() "
   ]
  },
  {
   "cell_type": "code",
   "execution_count": 181,
   "id": "594ca1c9",
   "metadata": {},
   "outputs": [
    {
     "name": "stdout",
     "output_type": "stream",
     "text": [
      "1 1 1 1 1 \n",
      "2 2 2 2 \n",
      "3 3 3 \n",
      "4 4 \n",
      "5 \n"
     ]
    }
   ],
   "source": [
    "# pattern 2\n",
    "for row in range(1, 6):\n",
    "    for col in range(6,row,-1):  \n",
    "      print(row, end=\" \")  \n",
    "    print()"
   ]
  },
  {
   "cell_type": "code",
   "execution_count": 193,
   "id": "c70c4fb7",
   "metadata": {},
   "outputs": [
    {
     "name": "stdout",
     "output_type": "stream",
     "text": [
      "1 2 3 4 5 \n",
      "1 2 3 4 \n",
      "1 2 3 \n",
      "1 2 \n",
      "1 \n"
     ]
    }
   ],
   "source": [
    "# pattern 3\n",
    "for row in range(5,0,-1):\n",
    "    for col in range(1,row+1):  \n",
    "      print(col, end=\" \")  \n",
    "    print()"
   ]
  },
  {
   "cell_type": "code",
   "execution_count": 194,
   "id": "513d83ed",
   "metadata": {},
   "outputs": [
    {
     "name": "stdout",
     "output_type": "stream",
     "text": [
      "A B C D E \n",
      "A B C D \n",
      "A B C \n",
      "A B \n",
      "A \n"
     ]
    }
   ],
   "source": [
    "# pattern 4\n",
    "for row in range(5,0,-1):\n",
    "    for col in range(1,row+1):  \n",
    "      print(chr(64+col), end=\" \")  \n",
    "    print()"
   ]
  },
  {
   "cell_type": "code",
   "execution_count": null,
   "id": "c750d81f",
   "metadata": {},
   "outputs": [
    {
     "name": "stdout",
     "output_type": "stream",
     "text": [
      "a a a \n",
      "b b \n",
      "c \n"
     ]
    }
   ],
   "source": [
    "# pattern 5\n",
    "for row in range(3,0,-1):\n",
    "    for col in range(1,row+1):  \n",
    "      print(chr(100-row), end=\" \")  \n",
    "    print()"
   ]
  },
  {
   "cell_type": "code",
   "execution_count": 201,
   "id": "04fdc3c1",
   "metadata": {},
   "outputs": [
    {
     "name": "stdout",
     "output_type": "stream",
     "text": [
      "1 2 3 4 5 \n",
      "6 7 8 9 \n",
      "10 11 12 \n",
      "13 14 \n",
      "15 \n"
     ]
    }
   ],
   "source": [
    "# pattern 6\n",
    "current_number = 1\n",
    "for row in range(5,0,-1):\n",
    "    for col in range(1,row+1):  \n",
    "      print(current_number, end=\" \") \n",
    "      current_number+=1 \n",
    "    print()"
   ]
  },
  {
   "cell_type": "code",
   "execution_count": 205,
   "id": "f283926b",
   "metadata": {},
   "outputs": [
    {
     "name": "stdout",
     "output_type": "stream",
     "text": [
      "A B C D E F \n",
      "G H I J K \n",
      "L M N O \n",
      "P Q R \n",
      "S T \n",
      "U \n"
     ]
    }
   ],
   "source": [
    "# pattern 7\n",
    "current_number = 65\n",
    "for row in range(6,0,-1):\n",
    "    for col in range(1,row+1):  \n",
    "      print(chr(current_number), end=\" \") \n",
    "      current_number+=1 \n",
    "    print()"
   ]
  },
  {
   "cell_type": "code",
   "execution_count": null,
   "id": "9cf33e6e",
   "metadata": {},
   "outputs": [
    {
     "name": "stdout",
     "output_type": "stream",
     "text": [
      "5 5 5 5 5 \n",
      "4 4 4 4 \n",
      "3 3 3 \n",
      "2 2 \n",
      "1 \n"
     ]
    }
   ],
   "source": [
    "# pattern 8\n",
    "for row in range(5,0,-1):\n",
    "    for col in range(1,row+1):  \n",
    "      print(row, end=\" \")\n",
    "    print()"
   ]
  },
  {
   "cell_type": "code",
   "execution_count": 213,
   "id": "218426a0",
   "metadata": {},
   "outputs": [
    {
     "name": "stdout",
     "output_type": "stream",
     "text": [
      "5 4 3 2 1 \n",
      "5 4 3 2 \n",
      "5 4 3 \n",
      "5 4 \n",
      "5 \n"
     ]
    }
   ],
   "source": [
    "# pattern 8\n",
    "for row in range(5,0,-1):\n",
    "    for col in range(5,5-row,-1):  \n",
    "      print(col, end=\" \")\n",
    "    print()"
   ]
  },
  {
   "cell_type": "markdown",
   "id": "9e03ac6b",
   "metadata": {},
   "source": [
    "# Model 6"
   ]
  },
  {
   "cell_type": "code",
   "execution_count": 220,
   "id": "f0c05461",
   "metadata": {},
   "outputs": [
    {
     "name": "stdout",
     "output_type": "stream",
     "text": [
      "* * * * * * \n",
      " * * * * * \n",
      "  * * * * \n",
      "   * * * \n",
      "    * * \n",
      "     * \n"
     ]
    }
   ],
   "source": [
    "# pattern 1\n",
    "for row in range(6,0,-1):\n",
    "  for space in range(6,row,-1):\n",
    "    print(end=\" \")\n",
    "  for col in range(1, row+1):\n",
    "    print(\"*\", end=\" \")\n",
    "  print()\n"
   ]
  },
  {
   "cell_type": "code",
   "execution_count": 221,
   "id": "9488848a",
   "metadata": {},
   "outputs": [
    {
     "name": "stdout",
     "output_type": "stream",
     "text": [
      "6 6 6 6 6 6 \n",
      " 5 5 5 5 5 \n",
      "  4 4 4 4 \n",
      "   3 3 3 \n",
      "    2 2 \n",
      "     1 \n"
     ]
    }
   ],
   "source": [
    "# pattern 2\n",
    "for row in range(6,0,-1):\n",
    "  for space in range(6,row,-1):\n",
    "    print(end=\" \")\n",
    "  for col in range(1, row+1):\n",
    "    print(row, end=\" \")\n",
    "  print()"
   ]
  },
  {
   "cell_type": "code",
   "execution_count": 223,
   "id": "e7950cd8",
   "metadata": {},
   "outputs": [
    {
     "name": "stdout",
     "output_type": "stream",
     "text": [
      "1 2 3 4 5 \n",
      " 1 2 3 4 \n",
      "  1 2 3 \n",
      "   1 2 \n",
      "    1 \n"
     ]
    }
   ],
   "source": [
    "# pattern 3\n",
    "for row in range(5,0,-1):\n",
    "  for space in range(5,row,-1):\n",
    "    print(end=\" \")\n",
    "  for col in range(1, row+1):\n",
    "    print(col, end=\" \")\n",
    "  print()"
   ]
  },
  {
   "cell_type": "code",
   "execution_count": null,
   "id": "447a33f1",
   "metadata": {},
   "outputs": [
    {
     "name": "stdout",
     "output_type": "stream",
     "text": [
      "1 2 3 4 \n",
      " 5 6 7 \n",
      "  8 9 \n",
      "   10 \n"
     ]
    }
   ],
   "source": [
    "# pattern 4\n",
    "current_number=1\n",
    "for row in range(4,0,-1):\n",
    "  for space in range(4,row,-1):\n",
    "    print(end=\" \")\n",
    "  for col in range(1, row+1):\n",
    "    print(current_number, end=\" \")\n",
    "    current_number+=1\n",
    "  print()"
   ]
  },
  {
   "cell_type": "code",
   "execution_count": null,
   "id": "c91781d2",
   "metadata": {},
   "outputs": [
    {
     "name": "stdout",
     "output_type": "stream",
     "text": [
      "A B C D E \n",
      " A B C D \n",
      "  A B C \n",
      "   A B \n",
      "    A \n"
     ]
    }
   ],
   "source": [
    "# pattern 5\n",
    "\n",
    "for row in range(5,0,-1):\n",
    "  for space in range(5,row,-1):\n",
    "    print(end=\" \")\n",
    "  for col in range(1, row+1):\n",
    "    print(chr(64+col), end=\" \")    \n",
    "  print()"
   ]
  },
  {
   "cell_type": "code",
   "execution_count": null,
   "id": "06a321a8",
   "metadata": {},
   "outputs": [
    {
     "name": "stdout",
     "output_type": "stream",
     "text": [
      "a b c d e \n",
      " f g h i \n",
      "  j k l \n",
      "   m n \n",
      "    o \n"
     ]
    }
   ],
   "source": [
    "# pattern 6\n",
    "current_number=97\n",
    "for row in range(5,0,-1):\n",
    "  for space in range(5,row,-1):\n",
    "    print(end=\" \")\n",
    "  for col in range(1, row+1):\n",
    "    print(chr(current_number), end=\" \")\n",
    "    current_number+=1\n",
    "  print()"
   ]
  },
  {
   "cell_type": "markdown",
   "id": "4de47f08",
   "metadata": {},
   "source": [
    "# Model 7"
   ]
  },
  {
   "cell_type": "code",
   "execution_count": null,
   "id": "03429d1b",
   "metadata": {},
   "outputs": [
    {
     "name": "stdout",
     "output_type": "stream",
     "text": [
      "     * \n",
      "    * * \n",
      "   * * * \n",
      "  * * * * \n",
      " * * * * * \n",
      "* * * * * * \n",
      "* * * * * * \n",
      " * * * * * \n",
      "  * * * * \n",
      "   * * * \n",
      "    * * \n",
      "     * \n"
     ]
    }
   ],
   "source": [
    "# pattern 1\n",
    "# upper triangle\n",
    "for row in range(1,7):\n",
    "  for space in range(6,row,-1):\n",
    "    print(end=\" \")\n",
    "  for col in range(row):\n",
    "    print(\"*\", end=\" \")\n",
    "  print()\n",
    "# lower triangle  \n",
    "for row in range(6,0,-1):\n",
    "  for space in range(6,row,-1):\n",
    "    print(end=\" \")\n",
    "  for col in range(1, row+1):\n",
    "    print(\"*\", end=\" \")\n",
    "  print()"
   ]
  },
  {
   "cell_type": "code",
   "execution_count": 237,
   "id": "8f48ee93",
   "metadata": {},
   "outputs": [
    {
     "name": "stdout",
     "output_type": "stream",
     "text": [
      "    1 \n",
      "   2 2 \n",
      "  3 3 3 \n",
      " 4 4 4 4 \n",
      "5 5 5 5 5 \n",
      " 4 4 4 4 \n",
      "  3 3 3 \n",
      "   2 2 \n",
      "    1 \n"
     ]
    }
   ],
   "source": [
    "# pattern 2\n",
    "\n",
    "for row in range(1,5):\n",
    "  for space in range(5,row,-1):\n",
    "    print(end=\" \")\n",
    "  for col in range(1,row+1):\n",
    "    print(row, end=\" \")\n",
    "  print()\n",
    "\n",
    "for row in range(5,0,-1):\n",
    "  for space in range(5,row,-1):\n",
    "    print(end=\" \")\n",
    "  for col in range(1, row+1):\n",
    "    print(row, end=\" \")\n",
    "  print()\n"
   ]
  },
  {
   "cell_type": "code",
   "execution_count": 239,
   "id": "c57ba50b",
   "metadata": {},
   "outputs": [
    {
     "name": "stdout",
     "output_type": "stream",
     "text": [
      "    1 \n",
      "   1 2 \n",
      "  1 2 3 \n",
      " 1 2 3 4 \n",
      "1 2 3 4 5 \n",
      " 1 2 3 4 \n",
      "  1 2 3 \n",
      "   1 2 \n",
      "    1 \n"
     ]
    }
   ],
   "source": [
    "# pattern 3\n",
    "\n",
    "for row in range(1,5):\n",
    "  for space in range(5,row,-1):\n",
    "    print(end=\" \")\n",
    "  for col in range(1,row+1):\n",
    "    print(col, end=\" \")\n",
    "  print()\n",
    "\n",
    "for row in range(5,0,-1):\n",
    "  for space in range(5,row,-1):\n",
    "    print(end=\" \")\n",
    "  for col in range(1, row+1):\n",
    "    print(col, end=\" \")\n",
    "  print()\n"
   ]
  },
  {
   "cell_type": "code",
   "execution_count": 243,
   "id": "f91906f2",
   "metadata": {},
   "outputs": [
    {
     "name": "stdout",
     "output_type": "stream",
     "text": [
      "    1 \n",
      "   2 3 \n",
      "  4 5 6 \n",
      " 7 8 9 10 \n",
      "11 12 13 \n",
      " 14 15 \n",
      "  16 \n"
     ]
    }
   ],
   "source": [
    "# pattern 4\n",
    "current_number = 1\n",
    "for row in range(1,5):\n",
    "  for space in range(5,row,-1):\n",
    "    print(end=\" \")\n",
    "  for col in range(row):\n",
    "    print(current_number, end=\" \")\n",
    "    current_number +=1\n",
    "  print()\n",
    "\n",
    "for row in range(3,0,-1):\n",
    "  for space in range(3,row,-1):\n",
    "    print(end=\" \")\n",
    "  for col in range(1, row+1):\n",
    "    print(current_number, end=\" \")\n",
    "    current_number+=1\n",
    "  print()  \n",
    "\n",
    "  \n",
    "\n"
   ]
  },
  {
   "cell_type": "markdown",
   "id": "46010e08",
   "metadata": {},
   "source": [
    "# Model 8"
   ]
  },
  {
   "cell_type": "code",
   "execution_count": null,
   "id": "20dcd910",
   "metadata": {},
   "outputs": [
    {
     "name": "stdout",
     "output_type": "stream",
     "text": [
      "* * * * * \n",
      "# # # # # \n",
      "* * * * * \n",
      "# # # # # \n",
      "* * * * * \n"
     ]
    }
   ],
   "source": [
    "# pattern 1\n",
    "for row in range(1,6):  \n",
    "  for col in range(1,6):\n",
    "    if row % 2 != 0:\n",
    "     print(\"*\", end=\" \")\n",
    "    else:\n",
    "      print(\"#\", end=\" \")       \n",
    "  print()  "
   ]
  },
  {
   "cell_type": "code",
   "execution_count": 253,
   "id": "1945850a",
   "metadata": {},
   "outputs": [
    {
     "name": "stdout",
     "output_type": "stream",
     "text": [
      "* # * # * \n",
      "# * # * # \n",
      "* # * # * \n",
      "# * # * # \n",
      "* # * # * \n"
     ]
    }
   ],
   "source": [
    "# pattern 2\n",
    "for row in range(1,6):  \n",
    "  for col in range(1,6):\n",
    "    if (row+col)% 2 != 0:\n",
    "     print(\"#\", end=\" \")\n",
    "    else:\n",
    "      print(\"*\", end=\" \")       \n",
    "  print()"
   ]
  },
  {
   "cell_type": "code",
   "execution_count": 10,
   "id": "0e4423dd",
   "metadata": {},
   "outputs": [
    {
     "name": "stdout",
     "output_type": "stream",
     "text": [
      "1 2 3 4 5\n",
      "1 2 3 4 5\n",
      "1 2 3 4 5\n",
      "1 2 3 4 5\n",
      "1 2 3 4 5\n"
     ]
    }
   ],
   "source": [
    "line = \" \".join(str(i) for i in range(1, 6))\n",
    "print((line + \"\\n\") * 5, end=\"\")\n"
   ]
  },
  {
   "cell_type": "code",
   "execution_count": null,
   "id": "6e6ea15d",
   "metadata": {},
   "outputs": [
    {
     "name": "stdout",
     "output_type": "stream",
     "text": [
      "a a a \n",
      "b b b \n",
      "c c c \n",
      "d d d \n"
     ]
    }
   ],
   "source": [
    "for i in \"abcd\":\n",
    "  print(f\"{i} \"*3)"
   ]
  },
  {
   "cell_type": "code",
   "execution_count": null,
   "id": "a3287803",
   "metadata": {},
   "outputs": [
    {
     "name": "stdout",
     "output_type": "stream",
     "text": [
      "9 8 7 \n",
      "6 5 4 \n",
      "3 2 1 \n"
     ]
    }
   ],
   "source": [
    "# pattern to print the numbers 9-1\n",
    "n=9\n",
    "for _ in range(3):\n",
    "  for _ in range(3):\n",
    "    print(n,end=\" \")\n",
    "    n-=1\n",
    "  print()  "
   ]
  },
  {
   "cell_type": "code",
   "execution_count": null,
   "id": "b4b739a5",
   "metadata": {},
   "outputs": [
    {
     "name": "stdout",
     "output_type": "stream",
     "text": [
      "a b c d \n",
      "e f g h \n",
      "i j k l \n",
      "m n o p \n",
      "q r s t \n",
      "u v w x \n",
      "y z \n"
     ]
    }
   ],
   "source": [
    "# pattern to print small alphabets \n",
    "n = 1\n",
    "for _ in range(7):\n",
    "    for _ in range(4):\n",
    "        if n > 26: \n",
    "            break\n",
    "        print(chr(96 + n), end=\" \")\n",
    "        n += 1\n",
    "    print()   \n"
   ]
  }
 ],
 "metadata": {
  "kernelspec": {
   "display_name": "Python 3",
   "language": "python",
   "name": "python3"
  },
  "language_info": {
   "codemirror_mode": {
    "name": "ipython",
    "version": 3
   },
   "file_extension": ".py",
   "mimetype": "text/x-python",
   "name": "python",
   "nbconvert_exporter": "python",
   "pygments_lexer": "ipython3",
   "version": "3.12.3"
  }
 },
 "nbformat": 4,
 "nbformat_minor": 5
}
